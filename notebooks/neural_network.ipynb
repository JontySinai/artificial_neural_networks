{
 "cells": [
  {
   "cell_type": "markdown",
   "metadata": {},
   "source": [
    "# N-Layer Neural Network in PyTorch\n",
    "\n",
    "**|| Jonty Sinai ||** 08-04-2019\n",
    "\n",
    "In this notebook I explore extending the multilayer perceptron to a standard fully connected network using PyTorch. Again I'll test the network on two classic and low compute datasets, namely MNIST and CIFAR-10"
   ]
  },
  {
   "cell_type": "code",
   "execution_count": 1,
   "metadata": {},
   "outputs": [
    {
     "data": {
      "text/plain": [
       "<torch._C.Generator at 0x118afb8f0>"
      ]
     },
     "execution_count": 1,
     "metadata": {},
     "output_type": "execute_result"
    }
   ],
   "source": [
    "%matplotlib inline\n",
    "\n",
    "import os\n",
    "import random\n",
    "\n",
    "import numpy as np\n",
    "\n",
    "import torch\n",
    "import torch.nn as nn\n",
    "import torch.nn.functional as F\n",
    "import torch.optim as optim\n",
    "\n",
    "import torchvision\n",
    "from torchvision import transforms\n",
    "\n",
    "import matplotlib.pyplot as plt\n",
    "\n",
    "\n",
    "HOME = os.environ['AI_HOME']\n",
    "ROOT = os.path.join(HOME, 'artificial_neural_networks')\n",
    "DATA = os.path.join(ROOT, 'data')\n",
    "MNIST = os.path.join(DATA, 'mnist')\n",
    "CIFAR10 = os.path.join(DATA, 'cifar10')\n",
    "\n",
    "random.seed(1901)\n",
    "np.random.seed(1901)\n",
    "torch.manual_seed(1901)"
   ]
  },
  {
   "cell_type": "markdown",
   "metadata": {},
   "source": [
    "## Multiple Hidden Layers\n",
    "\n",
    "Early implementations of the MLP consisted of only one hidden layer, mainly due to computational constraints. Major breakthroughts in the predictive power of neural networks came when the number of layers was increased. Fundamentally the depth of a neural network is constrained by vanishing/exploding gradients. However modern techniques such as batch normalisation, Adam optimisation, dropout and others (this is continually evolving) make training higher depth neural networks possible. \n",
    "\n",
    "A basic schema for a fully connected neural network with multiple hidden layers is:\n",
    "\n",
    "<br/>\n",
    "<img src=\"./assets/dense_net.png\" width=\"560\">\n",
    "<br/>\n",
    "\n",
    "source: [M. Nielson, Neural Networks and Deep Learning](http://neuralnetworksanddeeplearning.com/chap6.html)\n",
    "\n",
    "To specify such a network we need:\n",
    "\n",
    "* The number of dense layers.\n",
    "* The dimensionality of each hidden layer (equivalently the number of hidden units/features in each layer).\n",
    "* The nonlinear activation functions of each layer.\n",
    "\n",
    "> Note that once again since we're using PyTorch, there is no need to explicitly specify the softmax activation in the final output layer when using the `CrossEntropyLoss` loss function.\n",
    "\n",
    "We will use PyTorch's `nn.ModuleList` and the `depth` argument to define the number of layers dynamically in the constructor. We'll pass a **list** specifying the number of \"hidden units\" in each layer (including the input and output layers) called `layer_dimensions`. For example in a 3-layer neural network with 10 input features, 8 hidden units and 2 classes we would pass:\n",
    "\n",
    "    layer_dimensions = [10, 8, 2]"
   ]
  },
  {
   "cell_type": "code",
   "execution_count": 2,
   "metadata": {},
   "outputs": [],
   "source": [
    "class DenseNet(nn.Module):\n",
    "    \n",
    "    def __init__(self, depth, layer_dims):\n",
    "        super().__init__()\n",
    "        assert len(layer_dims) - 1 == depth\n",
    "        # ModuleList allows us to create differentiable layers in a Python list\n",
    "        self.hidden_layers = nn.ModuleList(\n",
    "                                [nn.Linear(layer_dims[i], layer_dims[i+1])\n",
    "                                 for i in range(depth)])\n",
    "        \n",
    "    def forward(self, x):\n",
    "        # ModuleList is an iterable\n",
    "        for hidden in self.hidden_layers[:-1]:\n",
    "            x = F.relu(hidden(x))\n",
    "        # output layer\n",
    "        return self.hidden_layers[-1](x)\n",
    "        "
   ]
  },
  {
   "cell_type": "markdown",
   "metadata": {},
   "source": [
    "## Test Implementation"
   ]
  },
  {
   "cell_type": "code",
   "execution_count": 3,
   "metadata": {},
   "outputs": [
    {
     "name": "stdout",
     "output_type": "stream",
     "text": [
      "DenseNet(\n",
      "  (hidden_layers): ModuleList(\n",
      "    (0): Linear(in_features=10, out_features=8, bias=True)\n",
      "    (1): Linear(in_features=8, out_features=8, bias=True)\n",
      "    (2): Linear(in_features=8, out_features=6, bias=True)\n",
      "    (3): Linear(in_features=6, out_features=3, bias=True)\n",
      "  )\n",
      ")\n"
     ]
    }
   ],
   "source": [
    "architecture = [10, 8, 8, 6, 3]  # 10 input features, three hidden layers with 8, 8, 6 hidden units and 3 classes\n",
    "dense_net = DenseNet(4, architecture)\n",
    "print(dense_net)"
   ]
  },
  {
   "cell_type": "code",
   "execution_count": 4,
   "metadata": {},
   "outputs": [
    {
     "name": "stdout",
     "output_type": "stream",
     "text": [
      "tensor([[-0.2726,  0.0338, -0.1713],\n",
      "        [-0.3023,  0.1014, -0.1529],\n",
      "        [-0.3605,  0.1134, -0.1804],\n",
      "        [-0.2955,  0.0065, -0.1824],\n",
      "        [-0.2688,  0.0265, -0.1765]], grad_fn=<AddmmBackward>)\n"
     ]
    }
   ],
   "source": [
    "x = torch.randn(5, 10)\n",
    "\n",
    "y = dense_net(x)\n",
    "print(y)"
   ]
  },
  {
   "cell_type": "markdown",
   "metadata": {},
   "source": [
    "## Train and Evaluate Functions\n",
    "\n",
    "We will use the exact same train and evaluate functions from the MLP example, this time we will allow the loss function and optimiser to be arguments."
   ]
  },
  {
   "cell_type": "code",
   "execution_count": 5,
   "metadata": {},
   "outputs": [],
   "source": [
    "def train(model, training_data, input_size, optimiser, loss_function, num_epochs):\n",
    "    \n",
    "    for epoch in range(num_epochs):\n",
    "        print(f\"Epoch: {epoch + 1} \" + \"=\"*80 + \">\")\n",
    "        \n",
    "        total_loss = 0.0\n",
    "        for batch_idx, batch in enumerate(training_data):\n",
    "            images, labels = batch\n",
    "            \n",
    "            # zero accumulated gradients\n",
    "            optimiser.zero_grad()\n",
    "            \n",
    "            # unroll images\n",
    "            input_ = images.view(-1, input_size)\n",
    "            # forward pass\n",
    "            output = model(input_)\n",
    "            # backward pass\n",
    "            loss = loss_function(output, labels)\n",
    "            loss.backward()\n",
    "            optimiser.step()\n",
    "            \n",
    "            total_loss += loss.item()\n",
    "            # print progress\n",
    "            \n",
    "            if (batch_idx + 1) % 1000 == 0:    # print every 1000 mini-batches\n",
    "                print(\"[%4d/6000] loss: %.3f\" %\n",
    "                      (batch_idx + 1, total_loss / 1000))\n",
    "                total_loss = 0.0\n",
    "                \n",
    "    print(\"Finished Training \" + \"=\"*71 + \">\")"
   ]
  },
  {
   "cell_type": "code",
   "execution_count": 42,
   "metadata": {},
   "outputs": [],
   "source": [
    "def evaluate(model, test_data, input_size):\n",
    "    correct = 0\n",
    "    total = 0\n",
    "    with torch.no_grad():\n",
    "        for data in test_data:\n",
    "            images, truth = data\n",
    "            input_ = images.view(-1, input_size)\n",
    "            output = model(input_)\n",
    "            _, predicted = torch.max(output.data, 1)\n",
    "            total += truth.size(0)\n",
    "            correct += (predicted == truth).sum().item()\n",
    "\n",
    "    print('Test accuracy on %d test images: %.4f %%' % (total, 100 * correct / total))"
   ]
  },
  {
   "cell_type": "markdown",
   "metadata": {},
   "source": [
    "## MNIST\n",
    "\n",
    "Define dataloaders for MNIST as seen in [mlp.ipynb](mlp.ipynb)."
   ]
  },
  {
   "cell_type": "code",
   "execution_count": 7,
   "metadata": {},
   "outputs": [],
   "source": [
    "mnist_transforms = transforms.Compose([\n",
    "                    transforms.ToTensor(),\n",
    "                    transforms.Normalize((0.1307,), (0.3081,))]  # note that we normalise by rank-1 tensors\n",
    "                )"
   ]
  },
  {
   "cell_type": "code",
   "execution_count": 8,
   "metadata": {},
   "outputs": [],
   "source": [
    "# training set\n",
    "mnist_trainset = torchvision.datasets.MNIST(root=MNIST, train=True, download=True, transform=mnist_transforms)\n",
    "mnist_trainloader = torch.utils.data.DataLoader(mnist_trainset, batch_size=10, shuffle=True, num_workers=2)"
   ]
  },
  {
   "cell_type": "code",
   "execution_count": 9,
   "metadata": {},
   "outputs": [],
   "source": [
    "# test set\n",
    "mnist_testset = torchvision.datasets.MNIST(root=MNIST, train=False, download=True, transform=mnist_transforms)\n",
    "mnist_testloader = torch.utils.data.DataLoader(mnist_testset, batch_size=10, shuffle=False, num_workers=2)"
   ]
  },
  {
   "cell_type": "code",
   "execution_count": 10,
   "metadata": {},
   "outputs": [
    {
     "name": "stdout",
     "output_type": "stream",
     "text": [
      "('0', '1', '2', '3', '4', '5', '6', '7', '8', '9')\n"
     ]
    }
   ],
   "source": [
    "mnist_classes = tuple(f\"{n}\" for n in range(10))\n",
    "print(mnist_classes)"
   ]
  },
  {
   "cell_type": "markdown",
   "metadata": {},
   "source": [
    "Specify the architecture for MNIST. We'll only use four layers so that training doesn't take too long."
   ]
  },
  {
   "cell_type": "code",
   "execution_count": 11,
   "metadata": {},
   "outputs": [
    {
     "name": "stdout",
     "output_type": "stream",
     "text": [
      "DenseNet(\n",
      "  (hidden_layers): ModuleList(\n",
      "    (0): Linear(in_features=784, out_features=512, bias=True)\n",
      "    (1): Linear(in_features=512, out_features=256, bias=True)\n",
      "    (2): Linear(in_features=256, out_features=10, bias=True)\n",
      "  )\n",
      ")\n"
     ]
    }
   ],
   "source": [
    "mnist_arch = [784, 512, 256, 10]\n",
    "mnist_net = DenseNet(3, mnist_arch)\n",
    "\n",
    "print(mnist_net)"
   ]
  },
  {
   "cell_type": "markdown",
   "metadata": {},
   "source": [
    "Now train"
   ]
  },
  {
   "cell_type": "code",
   "execution_count": 12,
   "metadata": {},
   "outputs": [],
   "source": [
    "cross_entropy_mnist = nn.CrossEntropyLoss()\n",
    "sgd_mnist = optim.SGD(mnist_net.parameters(), lr=0.001, momentum=0.9)"
   ]
  },
  {
   "cell_type": "code",
   "execution_count": 13,
   "metadata": {},
   "outputs": [
    {
     "name": "stdout",
     "output_type": "stream",
     "text": [
      "Epoch: 1 ================================================================================>\n",
      "[1000/6000] loss: 0.788\n",
      "[2000/6000] loss: 0.317\n",
      "[3000/6000] loss: 0.273\n",
      "[4000/6000] loss: 0.217\n",
      "[5000/6000] loss: 0.195\n",
      "[6000/6000] loss: 0.179\n",
      "Epoch: 2 ================================================================================>\n",
      "[1000/6000] loss: 0.144\n",
      "[2000/6000] loss: 0.131\n",
      "[3000/6000] loss: 0.121\n",
      "[4000/6000] loss: 0.115\n",
      "[5000/6000] loss: 0.110\n",
      "[6000/6000] loss: 0.109\n",
      "Epoch: 3 ================================================================================>\n",
      "[1000/6000] loss: 0.091\n",
      "[2000/6000] loss: 0.081\n",
      "[3000/6000] loss: 0.081\n",
      "[4000/6000] loss: 0.071\n",
      "[5000/6000] loss: 0.074\n",
      "[6000/6000] loss: 0.081\n",
      "Finished Training =======================================================================>\n"
     ]
    }
   ],
   "source": [
    "train(mnist_net, mnist_trainloader, 784, sgd_mnist, cross_entropy_mnist, num_epochs=3)"
   ]
  },
  {
   "cell_type": "markdown",
   "metadata": {},
   "source": [
    "With the simple MLP the loss was 0.083 after three epochs. Let's see how this translates visually:"
   ]
  },
  {
   "cell_type": "code",
   "execution_count": 14,
   "metadata": {},
   "outputs": [],
   "source": [
    "def imshow(img):\n",
    "    img = img * 0.3081 + 0.1307     # unnormalize\n",
    "    npimg = img.numpy()\n",
    "    plt.imshow(np.transpose(npimg, (1, 2, 0)))\n",
    "    plt.show()"
   ]
  },
  {
   "cell_type": "code",
   "execution_count": 15,
   "metadata": {},
   "outputs": [
    {
     "data": {
      "image/png": "[encoded data removed]",
      "text/plain": [
       "<Figure size 432x288 with 1 Axes>"
      ]
     },
     "metadata": {
      "needs_background": "light"
     },
     "output_type": "display_data"
    },
    {
     "name": "stdout",
     "output_type": "stream",
     "text": [
      "Groundtruth:      7     2     1     0     4     1     4     9     5     9\n"
     ]
    }
   ],
   "source": [
    "data_iter = iter(mnist_testloader)\n",
    "images, labels = data_iter.next()\n",
    "\n",
    "# print images\n",
    "imshow(torchvision.utils.make_grid(images))\n",
    "print('Groundtruth: ', ' '.join('%5s' % mnist_classes[labels[j]] for j in range(10)))"
   ]
  },
  {
   "cell_type": "code",
   "execution_count": 16,
   "metadata": {},
   "outputs": [
    {
     "name": "stdout",
     "output_type": "stream",
     "text": [
      "Predicted:      7     2     1     0     4     1     4     9     5     9\n"
     ]
    }
   ],
   "source": [
    "input_ = images.view(-1, 784)\n",
    "output = mnist_net(input_)\n",
    "_, predicted = torch.max(output, 1)\n",
    "\n",
    "print('Predicted: ', ' '.join('%5s' % mnist_classes[predicted[j]] for j in range(10)))"
   ]
  },
  {
   "cell_type": "markdown",
   "metadata": {},
   "source": [
    "Compared to the simple MLP the 4-layer fully connected network gets all of the examples in the first batch right, including that wonky 5!\n",
    "\n",
    "Now let's evaluate:"
   ]
  },
  {
   "cell_type": "code",
   "execution_count": 43,
   "metadata": {},
   "outputs": [
    {
     "name": "stdout",
     "output_type": "stream",
     "text": [
      "Test accuracy on 10000 test images: 97.3600 %\n"
     ]
    }
   ],
   "source": [
    "evaluate(mnist_net, mnist_testloader, 784)"
   ]
  },
  {
   "cell_type": "markdown",
   "metadata": {},
   "source": [
    "## CIFAR-10\n",
    "\n",
    "Now define dataloaders for CIFAR-10 as seen in [mlp.ipynb](mlp.ipynb)."
   ]
  },
  {
   "cell_type": "code",
   "execution_count": 18,
   "metadata": {},
   "outputs": [],
   "source": [
    "cifar10_transforms = transforms.Compose([\n",
    "                    transforms.ToTensor(),\n",
    "                    transforms.Normalize((0.5, 0.5, 0.5), (0.5, 0.5, 0.5))]  # note that we normalise by rank-1 tensors\n",
    "                )"
   ]
  },
  {
   "cell_type": "code",
   "execution_count": 19,
   "metadata": {},
   "outputs": [
    {
     "name": "stdout",
     "output_type": "stream",
     "text": [
      "Files already downloaded and verified\n"
     ]
    }
   ],
   "source": [
    "cifar10_trainset = torchvision.datasets.CIFAR10(root=CIFAR10, train=True, download=True, transform=cifar10_transforms)\n",
    "cifar10_trainloader = torch.utils.data.DataLoader(cifar10_trainset, batch_size=10, shuffle=True, num_workers=2)"
   ]
  },
  {
   "cell_type": "code",
   "execution_count": 20,
   "metadata": {},
   "outputs": [
    {
     "name": "stdout",
     "output_type": "stream",
     "text": [
      "Files already downloaded and verified\n"
     ]
    }
   ],
   "source": [
    "cifar10_testset = torchvision.datasets.CIFAR10(root=CIFAR10, train=False, download=True, transform=cifar10_transforms)\n",
    "cifar10_testloader = torch.utils.data.DataLoader(cifar10_testset, batch_size=10, shuffle=False, num_workers=2)"
   ]
  },
  {
   "cell_type": "code",
   "execution_count": 21,
   "metadata": {},
   "outputs": [],
   "source": [
    "cifar10_classes = ('plane', 'car', 'bird', 'cat', 'deer', 'dog', 'frog', 'horse', 'ship', 'truck')"
   ]
  },
  {
   "cell_type": "markdown",
   "metadata": {},
   "source": [
    "Specify the architecture for MNIST. We'll only use four layers so that training doesn't take too long."
   ]
  },
  {
   "cell_type": "code",
   "execution_count": 33,
   "metadata": {},
   "outputs": [
    {
     "name": "stdout",
     "output_type": "stream",
     "text": [
      "DenseNet(\n",
      "  (hidden_layers): ModuleList(\n",
      "    (0): Linear(in_features=3072, out_features=512, bias=True)\n",
      "    (1): Linear(in_features=512, out_features=512, bias=True)\n",
      "    (2): Linear(in_features=512, out_features=10, bias=True)\n",
      "  )\n",
      ")\n"
     ]
    }
   ],
   "source": [
    "cifar10_arch = [3072, 512, 512, 10]\n",
    "cifar10_net = DenseNet(3, cifar10_arch)\n",
    "\n",
    "print(cifar10_net)"
   ]
  },
  {
   "cell_type": "markdown",
   "metadata": {},
   "source": [
    "Now train"
   ]
  },
  {
   "cell_type": "code",
   "execution_count": 34,
   "metadata": {},
   "outputs": [],
   "source": [
    "cross_entropy = nn.CrossEntropyLoss()\n",
    "sgd_cifar10 = optim.SGD(cifar10_net.parameters(), lr=0.001, momentum=0.9)"
   ]
  },
  {
   "cell_type": "code",
   "execution_count": 35,
   "metadata": {},
   "outputs": [
    {
     "name": "stdout",
     "output_type": "stream",
     "text": [
      "Epoch: 1 ================================================================================>\n",
      "[1000/6000] loss: 2.005\n",
      "[2000/6000] loss: 1.748\n",
      "[3000/6000] loss: 1.655\n",
      "[4000/6000] loss: 1.605\n",
      "[5000/6000] loss: 1.541\n",
      "Epoch: 2 ================================================================================>\n",
      "[1000/6000] loss: 1.480\n",
      "[2000/6000] loss: 1.475\n",
      "[3000/6000] loss: 1.459\n",
      "[4000/6000] loss: 1.422\n",
      "[5000/6000] loss: 1.427\n",
      "Epoch: 3 ================================================================================>\n",
      "[1000/6000] loss: 1.342\n",
      "[2000/6000] loss: 1.347\n",
      "[3000/6000] loss: 1.346\n",
      "[4000/6000] loss: 1.310\n",
      "[5000/6000] loss: 1.318\n",
      "Finished Training =======================================================================>\n"
     ]
    }
   ],
   "source": [
    "train(cifar10_net, cifar10_trainloader, 3072, sgd_cifar10, cross_entropy, num_epochs=3)"
   ]
  },
  {
   "cell_type": "code",
   "execution_count": 36,
   "metadata": {},
   "outputs": [],
   "source": [
    "def imshow(img):\n",
    "    img = img / 2 + 0.5     # unnormalize\n",
    "    npimg = img.numpy()\n",
    "    plt.imshow(np.transpose(npimg, (1, 2, 0)))\n",
    "    plt.show()"
   ]
  },
  {
   "cell_type": "code",
   "execution_count": 37,
   "metadata": {},
   "outputs": [
    {
     "data": {
      "image/png": "[encoded data removed]",
      "text/plain": [
       "<Figure size 432x288 with 1 Axes>"
      ]
     },
     "metadata": {
      "needs_background": "light"
     },
     "output_type": "display_data"
    },
    {
     "name": "stdout",
     "output_type": "stream",
     "text": [
      "Groundtruth:    cat  ship  ship plane  frog  frog   car  frog   cat   car\n"
     ]
    }
   ],
   "source": [
    "data_iter = iter(cifar10_testloader)\n",
    "images, labels = data_iter.next()\n",
    "\n",
    "# print images\n",
    "imshow(torchvision.utils.make_grid(images))\n",
    "print('Groundtruth: ', ' '.join('%5s' % cifar10_classes[labels[j]] for j in range(10)))"
   ]
  },
  {
   "cell_type": "code",
   "execution_count": 38,
   "metadata": {},
   "outputs": [
    {
     "name": "stdout",
     "output_type": "stream",
     "text": [
      "Predicted:   ship truck  ship  ship  deer  frog   cat  frog   dog   car\n"
     ]
    }
   ],
   "source": [
    "input_ = images.view(-1, 3072)\n",
    "outputs = cifar10_net(input_)\n",
    "_, predicted = torch.max(outputs, 1)\n",
    "\n",
    "print('Predicted: ', ' '.join('%5s' % cifar10_classes[predicted[j]] for j in range(10)))"
   ]
  },
  {
   "cell_type": "markdown",
   "metadata": {},
   "source": [
    "Now let's evaluate:"
   ]
  },
  {
   "cell_type": "code",
   "execution_count": 44,
   "metadata": {},
   "outputs": [
    {
     "name": "stdout",
     "output_type": "stream",
     "text": [
      "Test accuracy on 10000 test images: 52.4600 %\n"
     ]
    }
   ],
   "source": [
    "evaluate(cifar10_net, cifar10_testloader, 3072)"
   ]
  },
  {
   "cell_type": "markdown",
   "metadata": {},
   "source": [
    "Once again we are able to beat the simple MLP on CIFAR-10 by a few percentage points and once again it we can improve on this using more powerful models."
   ]
  },
  {
   "cell_type": "code",
   "execution_count": null,
   "metadata": {},
   "outputs": [],
   "source": []
  }
 ],
 "metadata": {
  "kernelspec": {
   "display_name": "Python 3 (axiom)",
   "language": "python",
   "name": "axiom"
  },
  "language_info": {
   "codemirror_mode": {
    "name": "ipython",
    "version": 3
   },
   "file_extension": ".py",
   "mimetype": "text/x-python",
   "name": "python",
   "nbconvert_exporter": "python",
   "pygments_lexer": "ipython3",
   "version": "3.7.3"
  }
 },
 "nbformat": 4,
 "nbformat_minor": 2
}
