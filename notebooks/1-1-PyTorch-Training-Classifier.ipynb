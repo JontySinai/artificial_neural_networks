{
 "cells": [
  {
   "cell_type": "markdown",
   "metadata": {},
   "source": [
    "## Training a Neural Network with PyTorch\n",
    "\n",
    "Now it's time to train a neural network using data.\n",
    "\n",
    "Usually when we have real world (or toy) data, we have to use packages which load data and convert them into tensor generators. In PyTorch there are `datasets` and `Dataloaders`.\n",
    "\n",
    "* **datasets** define batches of input tensors and their targets\n",
    "* **Dataloaders** generate datasets\n",
    "\n",
    "For most real world datasets, care has to be taken to specify efficient datasets and dataloaders of trainable tensors. However for images, there is a specific package called `torchvision` which makes things conveniently easier.\n",
    "\n",
    "In this tutorial we will use the **CIFAR10** dataset which has 10 classes:\n",
    "\n",
    "> airplane, automobile, bird, cat, deer, dog, frog, horse, ship, truck\n",
    "\n",
    "Images in CIFAR10 are of size `3x32x32` corresponding to **3 RGB colour channels** and **32x32 pixels**.\n",
    "\n",
    "### Training a CIFAR10 Classifier\n",
    "\n",
    "To train a **CIFAR10 Classifier** we will take the following steps\n",
    "\n",
    "1. Load and normalise CIFAR10 training and test sets\n",
    "2. Define a convolutional neural network\n",
    "3. Define a loss function and optimiser\n",
    "4. Train the neural network on the training dataset\n",
    "5. Test the neural network on the test dataset"
   ]
  },
  {
   "cell_type": "code",
   "execution_count": 35,
   "metadata": {},
   "outputs": [],
   "source": [
    "import os\n",
    "\n",
    "import torch\n",
    "import torchvision\n",
    "import torchvision.transforms as transforms\n",
    "\n",
    "import torch.nn as nn\n",
    "import torch.nn.functional as F\n",
    "import torch.optim as optim\n",
    "\n",
    "import numpy as np\n",
    "import matplotlib.pyplot as plt\n",
    "\n",
    "HOME = os.environ[\"AI_HOME\"]\n",
    "ROOT = os.path.join(HOME, \"artificial_neural_networks\")\n",
    "DATA = os.path.join(ROOT, \"data\")\n",
    "CIFAR10 = os.path.join(DATA, \"cifar10\")"
   ]
  },
  {
   "cell_type": "markdown",
   "metadata": {},
   "source": [
    "## 1. Dataloaders\n",
    "\n",
    "Torchvision contains a special dataloader for CIFAR10. Now the output of this dataset is a `PILImage` of range `[0,1]` which will need to transform and normalise to a tensor of range `[-1,1]`. To do so we will use the following set of compositional transforms:"
   ]
  },
  {
   "cell_type": "code",
   "execution_count": 3,
   "metadata": {},
   "outputs": [],
   "source": [
    "transform = transforms.Compose(\n",
    "                [transforms.ToTensor(),\n",
    "                 transforms.Normalize((0.5, 0.5, 0.5), (0.5, 0.5, 0.5))]\n",
    "            )"
   ]
  },
  {
   "cell_type": "markdown",
   "metadata": {},
   "source": [
    "Now we will define the training and test datasets as well as independent dataloaders for them"
   ]
  },
  {
   "cell_type": "code",
   "execution_count": 7,
   "metadata": {},
   "outputs": [
    {
     "name": "stdout",
     "output_type": "stream",
     "text": [
      "Files already downloaded and verified\n"
     ]
    }
   ],
   "source": [
    "trainset = torchvision.datasets.CIFAR10(root=CIFAR10, train=True, download=True, transform=transform)\n",
    "trainloader = torch.utils.data.DataLoader(trainset, batch_size=4, shuffle=True, num_workers=2)"
   ]
  },
  {
   "cell_type": "code",
   "execution_count": 8,
   "metadata": {},
   "outputs": [
    {
     "name": "stdout",
     "output_type": "stream",
     "text": [
      "Files already downloaded and verified\n"
     ]
    }
   ],
   "source": [
    "testset = torchvision.datasets.CIFAR10(root=CIFAR10, train=False, download=True, transform=transform)\n",
    "testloader = torch.utils.data.DataLoader(testset, batch_size=4, shuffle=False, num_workers=2)"
   ]
  },
  {
   "cell_type": "code",
   "execution_count": 10,
   "metadata": {},
   "outputs": [],
   "source": [
    "classes = ('plane', 'car', 'bird', 'cat', 'deer', 'dog', 'frog', 'horse', 'ship', 'truck')"
   ]
  },
  {
   "cell_type": "markdown",
   "metadata": {},
   "source": [
    "### Visualising the Data"
   ]
  },
  {
   "cell_type": "code",
   "execution_count": 12,
   "metadata": {},
   "outputs": [],
   "source": [
    "def show_image(img):\n",
    "    img = img / 2 + 0.5     # unnormalize\n",
    "    npimg = img.numpy()\n",
    "    plt.imshow(np.transpose(npimg, (1, 2, 0)))\n",
    "    plt.show()"
   ]
  },
  {
   "cell_type": "code",
   "execution_count": 27,
   "metadata": {},
   "outputs": [
    {
     "data": {
      "image/png": "[encoded data removed]",
      "text/plain": [
       "<Figure size 432x288 with 1 Axes>"
      ]
     },
     "metadata": {
      "needs_background": "light"
     },
     "output_type": "display_data"
    },
    {
     "name": "stdout",
     "output_type": "stream",
     "text": [
      " frog  deer truck  deer\n"
     ]
    }
   ],
   "source": [
    "# get some random training images\n",
    "data_iter = iter(trainloader)\n",
    "images, labels = data_iter.next()  # recall that batch_size=4\n",
    "\n",
    "# show images\n",
    "show_image(torchvision.utils.make_grid(images))\n",
    "# print labels\n",
    "print(' '.join('%5s' % classes[labels[j]] for j in range(4)))"
   ]
  },
  {
   "cell_type": "markdown",
   "metadata": {},
   "source": [
    "## 2. Define a CNN Classifier"
   ]
  },
  {
   "cell_type": "markdown",
   "metadata": {},
   "source": [
    "We will use the CNN classifier from the previous tutorial, only modified to take in 3-channel RGB images."
   ]
  },
  {
   "cell_type": "code",
   "execution_count": 32,
   "metadata": {},
   "outputs": [],
   "source": [
    "class CNN(nn.Module):\n",
    "    def __init__(self):\n",
    "        super().__init__()\n",
    "        self.conv1 = nn.Conv2d(3, 6, 5)\n",
    "        self.pool = nn.MaxPool2d(2, 2)\n",
    "        self.conv2 = nn.Conv2d(6, 16, 5)\n",
    "        self.fc1 = nn.Linear(16 * 5 * 5, 120)\n",
    "        self.fc2 = nn.Linear(120, 84)\n",
    "        self.fc3 = nn.Linear(84, 10)\n",
    "\n",
    "    def forward(self, x):\n",
    "        x = self.pool(F.relu(self.conv1(x)))\n",
    "        x = self.pool(F.relu(self.conv2(x)))\n",
    "        x = x.view(-1, 16 * 5 * 5)\n",
    "        x = F.relu(self.fc1(x))\n",
    "        x = F.relu(self.fc2(x))\n",
    "        return self.fc3(x)"
   ]
  },
  {
   "cell_type": "code",
   "execution_count": 49,
   "metadata": {},
   "outputs": [],
   "source": [
    "net = CNN()"
   ]
  },
  {
   "cell_type": "markdown",
   "metadata": {},
   "source": [
    "## 3. Define a Loss Function and Optimiser"
   ]
  },
  {
   "cell_type": "code",
   "execution_count": 50,
   "metadata": {},
   "outputs": [],
   "source": [
    "cross_entropy = nn.CrossEntropyLoss()\n",
    "optimiser = optim.SGD(net.parameters(), lr=0.001, momentum=0.9)"
   ]
  },
  {
   "cell_type": "markdown",
   "metadata": {},
   "source": [
    "## 4. Train the Network\n",
    "\n",
    "We will train over several epochs (one epoch is one complete pass over the dataset)"
   ]
  },
  {
   "cell_type": "code",
   "execution_count": 51,
   "metadata": {},
   "outputs": [
    {
     "name": "stdout",
     "output_type": "stream",
     "text": [
      "Epoch: 1 ================================================================================>\n",
      "[ 2000/12000] loss: 2.245\n",
      "[ 4000/12000] loss: 1.913\n",
      "[ 6000/12000] loss: 1.704\n",
      "[ 8000/12000] loss: 1.613\n",
      "[10000/12000] loss: 1.533\n",
      "[12000/12000] loss: 1.491\n",
      "Epoch: 2 ================================================================================>\n",
      "[ 2000/12000] loss: 1.437\n",
      "[ 4000/12000] loss: 1.413\n",
      "[ 6000/12000] loss: 1.368\n",
      "[ 8000/12000] loss: 1.355\n",
      "[10000/12000] loss: 1.350\n",
      "[12000/12000] loss: 1.335\n",
      "Epoch: 3 ================================================================================>\n",
      "[ 2000/12000] loss: 1.271\n",
      "[ 4000/12000] loss: 1.265\n",
      "[ 6000/12000] loss: 1.268\n",
      "[ 8000/12000] loss: 1.229\n",
      "[10000/12000] loss: 1.231\n",
      "[12000/12000] loss: 1.214\n",
      "Epoch: 4 ================================================================================>\n",
      "[ 2000/12000] loss: 1.160\n",
      "[ 4000/12000] loss: 1.162\n",
      "[ 6000/12000] loss: 1.143\n",
      "[ 8000/12000] loss: 1.156\n",
      "[10000/12000] loss: 1.132\n",
      "[12000/12000] loss: 1.139\n",
      "Epoch: 5 ================================================================================>\n",
      "[ 2000/12000] loss: 1.071\n",
      "[ 4000/12000] loss: 1.073\n",
      "[ 6000/12000] loss: 1.077\n",
      "[ 8000/12000] loss: 1.085\n",
      "[10000/12000] loss: 1.082\n",
      "[12000/12000] loss: 1.074\n",
      "Finished training.======================================================================>\n"
     ]
    }
   ],
   "source": [
    "for epoch in range(5):\n",
    "    print(f\"Epoch: {epoch + 1} \" + \"=\"*80 + \">\")\n",
    "    total_loss = 0.0\n",
    "    for idx, sample in enumerate(trainloader, 0):\n",
    "        inputs, labels = sample\n",
    "        \n",
    "        # zero parameter gradients\n",
    "        optimiser.zero_grad()\n",
    "        \n",
    "        # forward pass\n",
    "        outputs = net(inputs)\n",
    "        loss = cross_entropy(outputs, labels)\n",
    "        # backward pass\n",
    "        loss.backward()\n",
    "        # optimise\n",
    "        optimiser.step()\n",
    "        \n",
    "        # print training progress and statistics\n",
    "        total_loss += loss.item()  # loss is a scalar so extract using `.item`\n",
    "        if idx % 2000 == 1999:  # print every 2000 minibatches\n",
    "            print('[%5d/12000] loss: %.3f' % (idx + 1, total_loss / 2000))\n",
    "            total_loss = 0.0\n",
    "\n",
    "print(\"Finished training.\" + \"=\"*70 + \">\")        "
   ]
  },
  {
   "cell_type": "markdown",
   "metadata": {},
   "source": [
    "## 5. Test the Network\n",
    "\n",
    "Now that we have a trained model we can test it. First we use the image plotting function to visually check the ground truth:"
   ]
  },
  {
   "cell_type": "code",
   "execution_count": 52,
   "metadata": {},
   "outputs": [
    {
     "data": {
      "image/png": "[encoded data removed]",
      "text/plain": [
       "<Figure size 432x288 with 1 Axes>"
      ]
     },
     "metadata": {
      "needs_background": "light"
     },
     "output_type": "display_data"
    },
    {
     "name": "stdout",
     "output_type": "stream",
     "text": [
      "GroundTruth:    cat  ship  ship plane\n"
     ]
    }
   ],
   "source": [
    "test_iter = iter(testloader)\n",
    "images, labels = test_iter.next()\n",
    "\n",
    "# print images\n",
    "show_image(torchvision.utils.make_grid(images))\n",
    "print('GroundTruth: ', ' '.join('%5s' % classes[labels[j]] for j in range(4)))"
   ]
  },
  {
   "cell_type": "markdown",
   "metadata": {},
   "source": [
    "Then using the same set of images, let's see what the trained neural network predicts:"
   ]
  },
  {
   "cell_type": "code",
   "execution_count": 53,
   "metadata": {},
   "outputs": [
    {
     "name": "stdout",
     "output_type": "stream",
     "text": [
      "Predicted:    cat  ship plane plane\n"
     ]
    }
   ],
   "source": [
    "outputs = net(images)\n",
    "# use argmax to get predicted class indices\n",
    "_, predicted = torch.max(outputs, 1)\n",
    "\n",
    "print('Predicted: ', ' '.join('%5s' % classes[predicted[j]]\n",
    "                              for j in range(4)))"
   ]
  },
  {
   "cell_type": "markdown",
   "metadata": {},
   "source": [
    "Now we see how the neural network performs overall on the whole test dataset"
   ]
  },
  {
   "cell_type": "code",
   "execution_count": 56,
   "metadata": {},
   "outputs": [
    {
     "name": "stdout",
     "output_type": "stream",
     "text": [
      "Accuracy of the network on the 10000 test images: 60 %\n"
     ]
    }
   ],
   "source": [
    "correct = 0\n",
    "total = 0\n",
    "\n",
    "with torch.no_grad():\n",
    "    for data in testloader:\n",
    "        images, labels = data\n",
    "        outputs = net(images)\n",
    "        _, predicted = torch.max(outputs.data, 1)\n",
    "        total += labels.size(0)\n",
    "        correct += (predicted == labels).sum().item()\n",
    "\n",
    "print('Accuracy of the network on the 10000 test images: %d %%' % (\n",
    "    100 * correct / total))"
   ]
  },
  {
   "cell_type": "markdown",
   "metadata": {},
   "source": [
    "### Analyse Class Performance\n",
    "\n",
    "We can try and check which classes the neural network did well on and which it do not perform well."
   ]
  },
  {
   "cell_type": "code",
   "execution_count": 55,
   "metadata": {},
   "outputs": [
    {
     "name": "stdout",
     "output_type": "stream",
     "text": [
      "Accuracy of plane : 62 %\n",
      "Accuracy of   car : 72 %\n",
      "Accuracy of  bird : 46 %\n",
      "Accuracy of   cat : 31 %\n",
      "Accuracy of  deer : 49 %\n",
      "Accuracy of   dog : 43 %\n",
      "Accuracy of  frog : 79 %\n",
      "Accuracy of horse : 71 %\n",
      "Accuracy of  ship : 83 %\n",
      "Accuracy of truck : 69 %\n"
     ]
    }
   ],
   "source": [
    "class_correct = list(0. for i in range(10))\n",
    "class_total = list(0. for i in range(10))\n",
    "with torch.no_grad():\n",
    "    for data in testloader:\n",
    "        images, labels = data\n",
    "        outputs = net(images)\n",
    "        _, predicted = torch.max(outputs, 1)\n",
    "        c = (predicted == labels).squeeze()\n",
    "        for i in range(4):\n",
    "            label = labels[i]\n",
    "            class_correct[label] += c[i].item()\n",
    "            class_total[label] += 1\n",
    "\n",
    "\n",
    "for i in range(10):\n",
    "    print('Accuracy of %5s : %2d %%' % (\n",
    "        classes[i], 100 * class_correct[i] / class_total[i]))"
   ]
  },
  {
   "cell_type": "code",
   "execution_count": null,
   "metadata": {},
   "outputs": [],
   "source": []
  }
 ],
 "metadata": {
  "kernelspec": {
   "display_name": "Python 3 (axiom)\n",
   "language": "python",
   "name": "axiom"
  },
  "language_info": {
   "codemirror_mode": {
    "name": "ipython",
    "version": 3
   },
   "file_extension": ".py",
   "mimetype": "text/x-python",
   "name": "python",
   "nbconvert_exporter": "python",
   "pygments_lexer": "ipython3",
   "version": "3.7.3"
  }
 },
 "nbformat": 4,
 "nbformat_minor": 2
}
