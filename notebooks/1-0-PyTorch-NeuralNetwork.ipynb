{
 "cells": [
  {
   "cell_type": "markdown",
   "metadata": {},
   "source": [
    "## Neural Networks in PyTorch"
   ]
  },
  {
   "cell_type": "code",
   "execution_count": 24,
   "metadata": {},
   "outputs": [],
   "source": [
    "import torch\n",
    "import torch.nn as nn\n",
    "import torch.nn.functional as F\n",
    "import torch.optim as optim"
   ]
  },
  {
   "cell_type": "markdown",
   "metadata": {},
   "source": [
    "Neural networks in PyTorch are constructed using the `torch.nn` package. Neural networks are defined as a subclass of `nn.Module` which contains a `forward` method which completely describes how an input tensor is transformed by the neural network to produce an `output`. PyTorch then uses `autograd` to differentiate the models.\n",
    "\n",
    "### PyTorch Training Procedure:\n",
    "\n",
    "    1. Define a neural network using `torch.nn.Module` with _learnable parameters_.\n",
    "    2. Choose and define a **loss function**.\n",
    "\n",
    "    For input, target in dataset:\n",
    "\n",
    "        - Run `forward(input)`.\n",
    "    \n",
    "        - Compute the loss using the input's label.\n",
    "    \n",
    "        3. Propagate gradients using `.backward()`.\n",
    "    \n",
    "        4. Update the weights of a network using a _gradient-based optimiser_."
   ]
  },
  {
   "cell_type": "markdown",
   "metadata": {},
   "source": [
    "### 1. Define a neural network\n",
    "\n",
    "We use the following architecture:\n",
    "\n",
    "- Conv 5x5: 1 input channel -> 6 output channels\n",
    "- Conv 5x5: 6 input channels -> 16 output channels\n",
    "- FC: 120 hidden units\n",
    "- FC: 84 hidden units\n",
    "- FC: 10 **output** units"
   ]
  },
  {
   "cell_type": "code",
   "execution_count": 2,
   "metadata": {},
   "outputs": [],
   "source": [
    "class CNN(nn.Module):\n",
    "    \n",
    "    def __init__(self):\n",
    "        super().__init__()\n",
    "        # LAYERS ==========================>\n",
    "        self.conv1 = nn.Conv2d(1, 6, 5)\n",
    "        self.conv2 = nn.Conv2d(6, 16, 5)\n",
    "        self.fc1 = nn.Linear(16 * 5 * 5, 120)\n",
    "        self.fc2 = nn.Linear(120, 84)\n",
    "        self.fc3 = nn.Linear(84, 10)\n",
    "        \n",
    "    def forward(self, x):\n",
    "        # conv1 -> relu -> max pool (2,2)\n",
    "        x = F.max_pool2d(F.relu(self.conv1(x)), (2,2))\n",
    "        # conv2 -> relu -> max pool (2,2) | note size is square so we only specify a single number for max_pool\n",
    "        x = F.max_pool2d(F.relu(self.conv2(x)), 2)\n",
    "        # unroll the intermediate output\n",
    "        x = x.view(-1, self.num_flat_features(x))\n",
    "        # fc1 -> relu\n",
    "        x = F.relu(self.fc1(x))\n",
    "        # fc2 -> relu\n",
    "        x = F.relu(self.fc2(x))\n",
    "        # fc3 -> output\n",
    "        return self.fc3(x)\n",
    "    \n",
    "    def num_flat_features(self, x):\n",
    "        size = x.size()[1:]  # all dimensions except the batch dimension\n",
    "        num_features = 1\n",
    "        for s in size:\n",
    "            num_features *= s\n",
    "        return num_features"
   ]
  },
  {
   "cell_type": "code",
   "execution_count": 20,
   "metadata": {},
   "outputs": [
    {
     "name": "stdout",
     "output_type": "stream",
     "text": [
      "CNN(\n",
      "  (conv1): Conv2d(1, 6, kernel_size=(5, 5), stride=(1, 1))\n",
      "  (conv2): Conv2d(6, 16, kernel_size=(5, 5), stride=(1, 1))\n",
      "  (fc1): Linear(in_features=400, out_features=120, bias=True)\n",
      "  (fc2): Linear(in_features=120, out_features=84, bias=True)\n",
      "  (fc3): Linear(in_features=84, out_features=10, bias=True)\n",
      ")\n"
     ]
    }
   ],
   "source": [
    "# we can print a summary of the network\n",
    "net = CNN()\n",
    "print(net)"
   ]
  },
  {
   "cell_type": "code",
   "execution_count": 8,
   "metadata": {},
   "outputs": [
    {
     "name": "stdout",
     "output_type": "stream",
     "text": [
      "10\n",
      "torch.Size([6, 1, 5, 5])\n"
     ]
    }
   ],
   "source": [
    "# the learnable parameters of the neural network can be accessed using `net.parameters`\n",
    "params = list(net.parameters())\n",
    "print(len(params)) # number of parameter groups\n",
    "print(params[0].size()) # dimensionality of conv1's weights"
   ]
  },
  {
   "cell_type": "markdown",
   "metadata": {},
   "source": [
    "#### Testing the Forward Propogation"
   ]
  },
  {
   "cell_type": "code",
   "execution_count": 21,
   "metadata": {},
   "outputs": [
    {
     "name": "stdout",
     "output_type": "stream",
     "text": [
      "tensor([[ 0.0109, -0.0894,  0.0501,  0.0767,  0.1023,  0.0595, -0.0435,  0.0773,\n",
      "         -0.1163, -0.0197]], grad_fn=<AddmmBackward>)\n"
     ]
    }
   ],
   "source": [
    "# try out forward with a random tensor\n",
    "in_ = torch.randn(1,1,32,32) # note dimensionality: (N, C, H, W)\n",
    "out = net(in_)\n",
    "print(out)"
   ]
  },
  {
   "cell_type": "markdown",
   "metadata": {},
   "source": [
    "#### Testing Backward Propogation\n",
    "\n",
    ">Remember that PyTorch gradients are accumulated vector-Jacobian products. At the start of each epoch we need to zero out the accumulated gradients - it is good to get into this habbit."
   ]
  },
  {
   "cell_type": "code",
   "execution_count": 12,
   "metadata": {},
   "outputs": [],
   "source": [
    "net.zero_grad()\n",
    "out.backward(torch.randn(1,10), retain_graph=True) # note that we have to supply a vector to evaluate gradients at"
   ]
  },
  {
   "cell_type": "markdown",
   "metadata": {},
   "source": [
    "## 2. Choose a Loss Function\n",
    "\n",
    "PyTorch contains many different kinds of [loss functions](https://pytorch.org/docs/stable/nn.html#id51). In general **loss functions** are functions which takes an $(input, target)$ pair and computes a _scalar value_ indicating how close the forward pass of the network is at approximating the target for the given input.\n",
    "\n",
    "A simple example of a loss function is the **Mean Square Error**:"
   ]
  },
  {
   "cell_type": "code",
   "execution_count": 15,
   "metadata": {},
   "outputs": [
    {
     "name": "stdout",
     "output_type": "stream",
     "text": [
      "torch.Size([10])\n",
      "torch.Size([1, 10])\n",
      "torch.Size([10])\n"
     ]
    }
   ],
   "source": [
    "# choose a random target\n",
    "target = torch.randn(10)\n",
    "print(target.size())\n",
    "print(out.size())\n",
    "# make the target the same shape as the output\n",
    "target.view(1,-1)\n",
    "print(target.size())"
   ]
  },
  {
   "cell_type": "code",
   "execution_count": 22,
   "metadata": {},
   "outputs": [
    {
     "name": "stdout",
     "output_type": "stream",
     "text": [
      "tensor(0.9470, grad_fn=<MseLossBackward>)\n"
     ]
    }
   ],
   "source": [
    "# define the MSE loss function\n",
    "mse = nn.MSELoss()\n",
    "\n",
    "loss = mse(out, target)\n",
    "print(loss)"
   ]
  },
  {
   "cell_type": "markdown",
   "metadata": {},
   "source": [
    "Now `loss` is the **final output** of the computation graph `in_ -> CNN -> out -> MSELoss, target -> loss`. Calling `.backward()` on `loss` will compute gradients along the edges going backward from the loss to the input. The whole graph will be differentiated w.r.t to `loss` and all tensors with `requires_grad=True` will have their gradients accumulated in `.grad`.\n",
    "\n",
    "To illustrate the graph, let's follow a few of these backward steps:"
   ]
  },
  {
   "cell_type": "code",
   "execution_count": 17,
   "metadata": {},
   "outputs": [
    {
     "name": "stdout",
     "output_type": "stream",
     "text": [
      "<MseLossBackward object at 0x7fa5430cf9e8>\n",
      "<AddmmBackward object at 0x7fa5430cfb38>\n",
      "<AccumulateGrad object at 0x7fa5430cf9e8>\n"
     ]
    }
   ],
   "source": [
    "print(loss.grad_fn)  # MSELoss\n",
    "print(loss.grad_fn.next_functions[0][0])  # Linear\n",
    "print(loss.grad_fn.next_functions[0][0].next_functions[0][0])  # Relu"
   ]
  },
  {
   "cell_type": "markdown",
   "metadata": {},
   "source": [
    "## 3. Backpropagation\n",
    "\n",
    "Now we will use `loss.backward()` to backpropagate the error using gradients. "
   ]
  },
  {
   "cell_type": "code",
   "execution_count": 23,
   "metadata": {},
   "outputs": [
    {
     "name": "stdout",
     "output_type": "stream",
     "text": [
      "conv1.bias.grad before backward\n",
      "None\n",
      "conv1.bias.grad after backward\n",
      "tensor([-0.0221,  0.0188, -0.0090, -0.0295, -0.0042,  0.0166])\n"
     ]
    }
   ],
   "source": [
    "# we need to clear existing gradients which we accumulated\n",
    "net.zero_grad()\n",
    "\n",
    "print('conv1.bias.grad before backward')\n",
    "print(net.conv1.bias.grad)\n",
    "\n",
    "loss.backward()\n",
    "\n",
    "print('conv1.bias.grad after backward')\n",
    "print(net.conv1.bias.grad)"
   ]
  },
  {
   "cell_type": "markdown",
   "metadata": {},
   "source": [
    "## 4. Optimising Weights\n",
    "\n",
    "We will use the simplest gradient-based optimiser used in modern machine learning, namely **stochastic gradient descent**."
   ]
  },
  {
   "cell_type": "code",
   "execution_count": 25,
   "metadata": {},
   "outputs": [],
   "source": [
    "optimiser = optim.SGD(net.parameters(), lr=0.01)\n",
    "\n",
    "net.zero_grad()\n",
    "\n",
    "in_ = torch.randn(1,1,32,32)\n",
    "target = torch.randn(10).view(1,-1)\n",
    "\n",
    "# inside a training loop\n",
    "out = net(in_)\n",
    "loss = mse(out, target)\n",
    "loss.backward()\n",
    "optimiser.step()"
   ]
  },
  {
   "cell_type": "code",
   "execution_count": null,
   "metadata": {},
   "outputs": [],
   "source": []
  }
 ],
 "metadata": {
  "kernelspec": {
   "display_name": "Python 3 (axiom)\n",
   "language": "python",
   "name": "axiom"
  },
  "language_info": {
   "codemirror_mode": {
    "name": "ipython",
    "version": 3
   },
   "file_extension": ".py",
   "mimetype": "text/x-python",
   "name": "python",
   "nbconvert_exporter": "python",
   "pygments_lexer": "ipython3",
   "version": "3.7.3"
  }
 },
 "nbformat": 4,
 "nbformat_minor": 2
}
