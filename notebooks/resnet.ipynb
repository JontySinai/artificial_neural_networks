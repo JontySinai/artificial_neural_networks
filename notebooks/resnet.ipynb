{
 "cells": [
  {
   "cell_type": "markdown",
   "metadata": {},
   "source": [
    "# Residual Network in PyTorch\n",
    "\n",
    "**|| Jonty Sinai ||** 13-04-2019\n",
    "\n",
    "- **Paper:** [Deep Residual Learning for Image Recognition](https://arxiv.org/abs/1512.03385)\n",
    "- **Authors:** Kaiming He, Xiangyu Zhang, Shaoqing Ren, Jian Sun\n",
    "- **Topic:** Computer vision, Neural network architectures\n",
    "- **Year:** 2015\n",
    "\n",
    "In this notebook I implement a modularised ResNet in PyTorch. I train a simplified version of ResNet which is possible to train on a CPU in a few minutes for the [CIFAR-10 dataset](https://www.cs.toronto.edu/~kriz/cifar.html). The goal is to try and see how the different parts of ResNet can be abstracted into composeable modules."
   ]
  },
  {
   "cell_type": "code",
   "execution_count": 3,
   "metadata": {},
   "outputs": [
    {
     "data": {
      "text/plain": [
       "<torch._C.Generator at 0x110c8df10>"
      ]
     },
     "execution_count": 3,
     "metadata": {},
     "output_type": "execute_result"
    }
   ],
   "source": [
    "%matplotlib inline\n",
    "\n",
    "import os\n",
    "import random\n",
    "\n",
    "import numpy as np\n",
    "\n",
    "import torch\n",
    "import torch.nn as nn\n",
    "import torch.nn.functional as F\n",
    "import torch.optim as optim\n",
    "\n",
    "import torchvision\n",
    "from torchvision import transforms\n",
    "\n",
    "import matplotlib.pyplot as plt\n",
    "\n",
    "\n",
    "HOME = os.environ['AI_HOME']\n",
    "ROOT = os.path.join(HOME, 'artificial_neural_networks')\n",
    "DATA = os.path.join(ROOT, 'data')\n",
    "MNIST = os.path.join(DATA, 'mnist')\n",
    "CIFAR10 = os.path.join(DATA, 'cifar10')\n",
    "\n",
    "random.seed(1901)\n",
    "np.random.seed(1901)\n",
    "torch.manual_seed(1901)"
   ]
  },
  {
   "cell_type": "markdown",
   "metadata": {},
   "source": [
    "## Deep Residual Networks\n",
    "\n",
    "The key idea behind ResNet is to observe that if we have two networks, a shallow network and its deeper counterpart, then the deeper network should perform no worse than the shallower network if the additional layers are identity mappings from the input. \n",
    "\n",
    "In particular (and as outlined in the paper referenced below) let this mapping, called the _residual mapping_, be denoted by $\\mathcal{H}(x)$. Then since the shallower network, let's denote it by $\\mathcal{F}(x)$ differs from the residual network by the identity we have:\n",
    "\n",
    "\\begin{align}\n",
    "    \\mathcal{F}(x) = \\mathcal{H}(x) - x\n",
    "\\end{align}\n",
    "\n",
    "Now we can learn the deeper network instead:\n",
    "\n",
    "\\begin{align}\n",
    "    \\mathcal{H}(x) = \\mathcal{F}(x) + x\n",
    "\\end{align}\n",
    "\n",
    "The picture looks something like this\n",
    "\n",
    "<img src=\"./assets/resnet_skip_connection.png\" width=\"300\">\n",
    "\n",
    "source: [Kaiming He, Xiangyu Zhang, Shaoqing Ren, Jian Sun, _Deep Residual Learning for Image Recognition_, 2015](https://arxiv.org/abs/1512.03385)\n",
    "\n",
    "So how does this help solve the vanishing gradient problem? Well let's suppose that the network with mapping $\\mathcal{F}$ suffers from weight degradation, so that the input is mapped to approximately zero, then:\n",
    "\n",
    "\\begin{align}\n",
    "    \\mathcal{F}(x) \\approx 0 \\ , \\ \\ \\lVert \\mathcal{F}(x) - x \\rVert \\approx x\n",
    "\\end{align}\n",
    "\n",
    "This means that the residual network, $\\mathcal{H}$ can be used to \"reset\" the input if $\\mathcal{F}$ has degraded:\n",
    "\n",
    "\\begin{align}\n",
    "    \\mathcal{H}(x) \\approx x\n",
    "\\end{align}\n",
    "\n",
    "With this in mind, suppose that we have stacks of such residual networks, called _residual blocks_, mapping into each other:\n",
    "\n",
    "\\begin{align}\n",
    "x \\rightarrow \\mathcal{H}_1 \\rightarrow \\mathcal{H}_2 \\cdots \\rightarrow \\mathcal{H}_L \\rightarrow y\n",
    "\\end{align}\n",
    "\n",
    "Then if any one of these intermediate blocks degrades, then its input will simply be reset and passed onto the next block. This allows information to be propagated through a deep network even if weights decay.\n",
    "\n",
    "## ResNet Architecture\n",
    "\n",
    "The architecture used in the paper is shown below:\n",
    "\n",
    "<img src=\"./assets/resnet_architectures.png\" width=\"800\">\n",
    "\n",
    "source: [Andrew Ng, Coursera](https://www.coursera.org/learn/convolutional-neural-networks/home/welcome)\n",
    "\n",
    "Notice how ResNet has a very regular architecture, despite being very deep (especially for the time in 2015). At a high level, ResNet can be broken down into the following \"sub-networks\" or \"blocks\":\n",
    "\n",
    "- **Convolutional block:** An initial convolutional layer with a relatively large kernel followed by a max pooling layer to quickly transform the original input image into a compressed latent representation.\n",
    "- **Residual blocks:** Two layer residual blocks with skip connections (solid arrows) between them. Latent dimensionality is preserved between these blocks.\n",
    "- **Transition Residual blocks:** Residual blocks which expand the number of latent channels but compress the resolution by a factor of two. Since this mapping is not dimensionality preserving, the skip connections (dashed arrows) between these blocks need to include an additional convolution layer which uses a 1x1 kernel to change dimensionality along the skip collection so that addition is possible.\n",
    "- **Dense output layer:** A final dense or fully conencted layer with a softmax output.\n",
    "\n",
    "Below we'll implement each part of ResNet modularly"
   ]
  },
  {
   "cell_type": "markdown",
   "metadata": {},
   "source": [
    "## Convolution Layers\n",
    "\n",
    "ResNet starts with an initial convolution layer with max pooling and relu activation. We'll generalise the pattern to include multiple convolution layers followed by a pooling layer and then relu."
   ]
  },
  {
   "cell_type": "code",
   "execution_count": 4,
   "metadata": {},
   "outputs": [],
   "source": [
    "class ConvBlock(nn.Module):\n",
    "    \n",
    "    def __init__(self, in_channels, out_channels, kernel_size, stride, padding, depth, pool):\n",
    "        super().__init__()\n",
    "        # first convolution layer warps dimension sizes\n",
    "        self.convolution_layers = nn.ModuleList(\n",
    "            [nn.Conv2d(in_channels, out_channels, kernel_size, stride, padding)])\n",
    "        # the remaining layers must preserve dimension size using stride = 1\n",
    "        same_padding = round((kernel_size - 1) / 2)\n",
    "        self.convolution_layers.extend(\n",
    "            [nn.Conv2d(out_channels, out_channels, kernel_size, 1, same_padding) for _ in range(depth - 1)])\n",
    "        \n",
    "        if pool == \"MaxPool\":\n",
    "            self.pool = nn.MaxPool2d(2, 2)\n",
    "        elif pool == \"AvgPool\":\n",
    "            self.pool = nn.AvgPool2d(2, 2)\n",
    "        else:\n",
    "            raise ValueError(f\"Unsupported pooling type: {pool}!\")\n",
    "            \n",
    "    def forward(self, x):\n",
    "        for convolution in self.convolution_layers:\n",
    "            x = F.relu(convolution(x))\n",
    "        return F.relu(self.pool(x))\n"
   ]
  },
  {
   "cell_type": "markdown",
   "metadata": {},
   "source": [
    "### Test Convolution Block\n",
    "\n",
    "We can test the implementation by checking how a random tensor of arbitrary size is transformed by each neural network module."
   ]
  },
  {
   "cell_type": "code",
   "execution_count": 5,
   "metadata": {},
   "outputs": [
    {
     "name": "stdout",
     "output_type": "stream",
     "text": [
      "torch.Size([10, 6, 16, 16])\n"
     ]
    }
   ],
   "source": [
    "test_tensor = torch.rand(10, 3, 32, 32)\n",
    "conv_block = ConvBlock(3, 6, 3, 1, 1, 4, \"MaxPool\")\n",
    "print(conv_block(test_tensor).size())"
   ]
  },
  {
   "cell_type": "markdown",
   "metadata": {},
   "source": [
    "## Residual Blocks\n",
    "\n",
    "We will see how we can improve on CIFAR-10 using a simple architecture with two resnet blocks. A key implementation detail is that both $x, \\mathcal{F}(x) \\in \\mathbb{R}^d$ so that we can add them. There are two scenarios to consider here:\n",
    "\n",
    "### Size Preserving Blocks\n",
    "\n",
    "In this case $\\mathcal{F}$ does not change the output size of $x$, so that we can simply add $x$ to $\\mathcal{F}(x)$.\n",
    "\n",
    "<img src=\"./assets/resnet_identity_block.png\" width=\"800\">\n",
    "\n",
    "source: [Andrew Ng, Coursera](https://www.coursera.org/learn/convolutional-neural-networks/home/welcome)"
   ]
  },
  {
   "cell_type": "code",
   "execution_count": 6,
   "metadata": {},
   "outputs": [],
   "source": [
    "class ResBlock(nn.Module):\n",
    "    \n",
    "    def __init__(self, num_channels, kernel_size, depth):\n",
    "        super().__init__()\n",
    "        # same padding calculation\n",
    "        same_padding = round((kernel_size - 1) / 2)\n",
    "        # successive convolutions\n",
    "        self.convolution_block = nn.ModuleList(\n",
    "            [nn.Conv2d(num_channels, num_channels, kernel_size, 1, same_padding) for _ in range(depth)])\n",
    "        \n",
    "    def forward(self, x):\n",
    "        h = x.clone()\n",
    "        for convolution in self.convolution_block[:-1]:\n",
    "            h = F.relu(convolution(h))\n",
    "        # don't apply relu to last convolution in block\n",
    "        h = self.convolution_block[-1](h)\n",
    "        # add and then apply relu\n",
    "        return F.relu(h + x)\n"
   ]
  },
  {
   "cell_type": "markdown",
   "metadata": {},
   "source": [
    "### Test ResNet Block"
   ]
  },
  {
   "cell_type": "code",
   "execution_count": 7,
   "metadata": {},
   "outputs": [
    {
     "name": "stdout",
     "output_type": "stream",
     "text": [
      "torch.Size([10, 6, 16, 16])\n"
     ]
    }
   ],
   "source": [
    "test_tensor = torch.randn(10, 6, 16, 16)\n",
    "res_block = ResBlock(6, 3, 4)\n",
    "print(res_block(test_tensor).size())"
   ]
  },
  {
   "cell_type": "markdown",
   "metadata": {},
   "source": [
    "### Size Transforming Blocks\n",
    "\n",
    "In the ResNet architecture, the number of channels is progressively increased between groups of consecutive residual blocks. At the same time the resolution of the output feature map is decreased. In this case the input dimension will be different to the output dimension. In order to add $x$ to $\\mathcal{F}(x)$, $x$ first passes through a convolution layer with a 1x1 kernel to warp the number of channels. Let $\\mathcal{f}$ be this **transition** mapping, then the residual block is:\n",
    "\n",
    "\\begin{align}\n",
    "\\mathcal{F}(x) + \\mathcal{f}(x)\n",
    "\\end{align}\n",
    "\n",
    "\n",
    "\n",
    "<img src=\"./assets/resnet_transition_block.png\" width=\"800\">\n",
    "\n",
    "source: [Andrew Ng, Coursera](https://www.coursera.org/learn/convolutional-neural-networks/home/welcome)\n",
    "\n",
    "This is done to keep the number of operations consistent during such transitions, every time the number of channels is increased (doubled), the output height and width is decreased (halved). This preserves the time complexity of each layer.\n"
   ]
  },
  {
   "cell_type": "code",
   "execution_count": 8,
   "metadata": {},
   "outputs": [],
   "source": [
    "class ResBlockTransition(nn.Module):\n",
    "    \n",
    "    def __init__(self, in_channels, kernel_size, depth):\n",
    "        super().__init__()\n",
    "        padding = round((kernel_size - 1) / 2)\n",
    "        # first layer doubles number of channels and halves output size\n",
    "        out_channels = 2 * in_channels  \n",
    "        self.convolution_block = nn.ModuleList(\n",
    "            [nn.Conv2d(in_channels, out_channels, kernel_size, 2, padding)])\n",
    "        # remaining layers preserve number of channels and resolution\n",
    "        self.convolution_block.extend(\n",
    "            [nn.Conv2d(out_channels, out_channels, kernel_size, 1, padding) for _ in range(depth - 1)])\n",
    "        # transition convolution map\n",
    "        self.transition = nn.Conv2d(in_channels, out_channels, 1, 2, 0)\n",
    "        \n",
    "    def forward(self, x):\n",
    "        h = x.clone()\n",
    "        for convolution in self.convolution_block[:-1]:\n",
    "            h = F.relu(convolution(h))\n",
    "        h = self.convolution_block[-1](h)\n",
    "        x = self.transition(x)\n",
    "        return F.relu(h + x)"
   ]
  },
  {
   "cell_type": "markdown",
   "metadata": {},
   "source": [
    "### Test ResNet Transition Block"
   ]
  },
  {
   "cell_type": "code",
   "execution_count": 9,
   "metadata": {},
   "outputs": [
    {
     "name": "stdout",
     "output_type": "stream",
     "text": [
      "torch.Size([10, 12, 8, 8])\n"
     ]
    }
   ],
   "source": [
    "test_tensor = torch.randn(10, 6, 16, 16)\n",
    "res_transition_block = ResBlockTransition(6, 3, 4)\n",
    "print(res_transition_block(test_tensor).size())"
   ]
  },
  {
   "cell_type": "markdown",
   "metadata": {},
   "source": [
    "## Dense Layers\n",
    "\n",
    "The final part of ResNet is a fully connected layer which transforms and compresses the output of the convolutional layers into a dense representation of the output classes. We'll use the [`DenseNet`](neural_network.ipynb) module from an earlier notebook to construct arbitrary fully connected layers."
   ]
  },
  {
   "cell_type": "markdown",
   "metadata": {},
   "source": [
    "To map the output of the convolutional layers to the fully connected layer, we'll need a special flatten module which just unrolls the tensor as: \n",
    "\n",
    "`CxHxW -> C*H*W`."
   ]
  },
  {
   "cell_type": "code",
   "execution_count": 10,
   "metadata": {},
   "outputs": [],
   "source": [
    "class Flatten(nn.Module):\n",
    "    # ref: https://discuss.pytorch.org/t/flatten-layer-of-pytorch-build-by-sequential-container/5983/3\n",
    "    def forward(self, x):\n",
    "        x = x.view(x.size()[0], -1)\n",
    "        return x"
   ]
  },
  {
   "cell_type": "markdown",
   "metadata": {},
   "source": [
    "### Test Flatten"
   ]
  },
  {
   "cell_type": "code",
   "execution_count": 11,
   "metadata": {},
   "outputs": [
    {
     "name": "stdout",
     "output_type": "stream",
     "text": [
      "torch.Size([10, 192])\n"
     ]
    }
   ],
   "source": [
    "test_tensor = torch.randn(10, 12, 4, 4)\n",
    "flatten = Flatten()\n",
    "print(flatten(test_tensor).size())"
   ]
  },
  {
   "cell_type": "code",
   "execution_count": 12,
   "metadata": {},
   "outputs": [],
   "source": [
    "class DenseNet(nn.Module):\n",
    "    \n",
    "    def __init__(self, layer_dims):\n",
    "        super().__init__()\n",
    "        depth = len(layer_dims) - 1\n",
    "        # ModuleList allows us to create differentiable layers in a Python list\n",
    "        self.hidden_layers = nn.ModuleList(\n",
    "                                [nn.Linear(layer_dims[i], layer_dims[i+1])\n",
    "                                 for i in range(depth)])\n",
    "        \n",
    "    def forward(self, x):\n",
    "        # ModuleList is an iterable\n",
    "        for hidden in self.hidden_layers[:-1]:\n",
    "            x = F.relu(hidden(x))\n",
    "        # output layer\n",
    "        return self.hidden_layers[-1](x)\n",
    "    "
   ]
  },
  {
   "cell_type": "markdown",
   "metadata": {},
   "source": [
    "### Test Dense Block"
   ]
  },
  {
   "cell_type": "code",
   "execution_count": 13,
   "metadata": {},
   "outputs": [
    {
     "name": "stdout",
     "output_type": "stream",
     "text": [
      "DenseBlock: torch.Size([10, 10])\n"
     ]
    }
   ],
   "source": [
    "test_tensor = torch.randn(10, 192)\n",
    "dense_block = DenseNet([192, 128, 64, 10])\n",
    "print(\"DenseBlock:\", dense_block(test_tensor).size())"
   ]
  },
  {
   "cell_type": "markdown",
   "metadata": {},
   "source": [
    "## Convolutional Neural Network Architecture\n",
    "\n",
    "We'll implement ResNet as a special case of a more generalised CNN module. The idea is to sequentially compose the architecture modularly from the components defined above."
   ]
  },
  {
   "cell_type": "code",
   "execution_count": 14,
   "metadata": {},
   "outputs": [],
   "source": [
    "class ConvNetModular(nn.Module):\n",
    "    \n",
    "    def __init__(self, modules):\n",
    "        \"\"\"\n",
    "        Args:\n",
    "            module_arch: List of modules from which to sequentially construct\n",
    "                the CNN. Modules must be specified in their order of\n",
    "                computation in the architecture.\n",
    "                    \n",
    "        \"\"\"\n",
    "        super().__init__()\n",
    "        \n",
    "        self.layers = nn.ModuleList([module for module in modules])\n",
    "                \n",
    "    def forward(self, x):\n",
    "        for layer in self.layers:\n",
    "            x = layer(x)\n",
    "        return x"
   ]
  },
  {
   "cell_type": "markdown",
   "metadata": {},
   "source": [
    "### Test Modular CNN\n",
    "\n",
    "You may have noticed that the dimensions of the test modules defined so far have been chosen so that they can be composed sequentially. We can just group these together as a list specifying the architecture."
   ]
  },
  {
   "cell_type": "code",
   "execution_count": 15,
   "metadata": {},
   "outputs": [],
   "source": [
    "arch = [conv_block,\n",
    "        res_block,\n",
    "        res_transition_block,\n",
    "        nn.AvgPool2d(2, 2),\n",
    "        flatten,\n",
    "        dense_block]"
   ]
  },
  {
   "cell_type": "code",
   "execution_count": 16,
   "metadata": {},
   "outputs": [
    {
     "name": "stdout",
     "output_type": "stream",
     "text": [
      "ConvNet: torch.Size([10, 10])\n"
     ]
    }
   ],
   "source": [
    "test_tensor = torch.randn(10, 3, 32, 32)\n",
    "conv_net = ConvNetModular(arch)\n",
    "print(\"ConvNet:\", conv_net(test_tensor).size())"
   ]
  },
  {
   "cell_type": "markdown",
   "metadata": {},
   "source": [
    "## CIFAR-10 Dataset\n",
    "\n",
    "We'll test a small and fast to train (even on a CPU) version of ResNet for CIFAR-10."
   ]
  },
  {
   "cell_type": "code",
   "execution_count": 17,
   "metadata": {},
   "outputs": [
    {
     "name": "stdout",
     "output_type": "stream",
     "text": [
      "Files already downloaded and verified\n"
     ]
    }
   ],
   "source": [
    "cifar10_transforms = transforms.Compose([\n",
    "                    transforms.ToTensor(),\n",
    "                    transforms.Normalize((0.5, 0.5, 0.5), (0.5, 0.5, 0.5))]  # note that we normalise by rank-1 tensors\n",
    "                )\n",
    "\n",
    "# Training Set\n",
    "cifar10_trainset = torchvision.datasets.CIFAR10(root=CIFAR10, train=True, download=True, transform=cifar10_transforms)\n",
    "cifar10_trainloader = torch.utils.data.DataLoader(cifar10_trainset, batch_size=10, shuffle=True, num_workers=0)\n",
    "\n",
    "# Test Set\n",
    "cifar10_testset = torchvision.datasets.CIFAR10(root=CIFAR10, train=False, download=False, transform=cifar10_transforms)\n",
    "cifar10_testloader = torch.utils.data.DataLoader(cifar10_testset, batch_size=10, shuffle=False, num_workers=0)\n",
    "\n",
    "cifar10_classes = ('plane', 'car', 'bird', 'cat', 'deer', 'dog', 'frog', 'horse', 'ship', 'truck')"
   ]
  },
  {
   "cell_type": "markdown",
   "metadata": {},
   "source": [
    "We can preview the dataset using the following utility:"
   ]
  },
  {
   "cell_type": "code",
   "execution_count": 22,
   "metadata": {},
   "outputs": [],
   "source": [
    "def preview(dataloader, classes, normalisation_statistics, model=None):\n",
    "    \n",
    "    mean, variance = normalisation_statistics\n",
    "    \n",
    "    def imshow(img, mean, variance):\n",
    "        img = img / variance + mean     # unnormalize\n",
    "        npimg = img.numpy()\n",
    "        plt.imshow(np.transpose(npimg, (1, 2, 0)), aspect=1.5)\n",
    "        plt.show()\n",
    "        \n",
    "    data_iter = iter(dataloader)\n",
    "    images, labels = data_iter.next()\n",
    "    \n",
    "    # print images\n",
    "    imshow(torchvision.utils.make_grid(images, nrow=10), mean, variance)\n",
    "    print('Groundtruth: ', ' '.join('%5s' % classes[labels[j]] for j in range(10)))\n",
    "    \n",
    "    if model:\n",
    "        outputs = model(images)\n",
    "        _, predicted = torch.max(outputs, 1)\n",
    "\n",
    "        print('Predicted: ', ' '.join('%5s' % classes[predicted[j]] for j in range(10)))\n"
   ]
  },
  {
   "cell_type": "code",
   "execution_count": 24,
   "metadata": {},
   "outputs": [
    {
     "data": {
      "image/png": "[encoded data removed]",
      "text/plain": [
       "<Figure size 432x288 with 1 Axes>"
      ]
     },
     "metadata": {
      "needs_background": "light"
     },
     "output_type": "display_data"
    },
    {
     "name": "stdout",
     "output_type": "stream",
     "text": [
      "Groundtruth:    car  bird   dog horse  bird  frog   car  deer  bird   car\n"
     ]
    }
   ],
   "source": [
    "preview(cifar10_trainloader, cifar10_classes, (0.5, 2))"
   ]
  },
  {
   "cell_type": "markdown",
   "metadata": {},
   "source": [
    "## Experiment Utilities\n",
    "\n",
    "Now we will create an experiment class which will manage our experiments for each model, ensuring that every part of the computation graph is kept to the local scope of the experiment."
   ]
  },
  {
   "cell_type": "code",
   "execution_count": 25,
   "metadata": {},
   "outputs": [],
   "source": [
    "class Experiment:\n",
    "    \n",
    "    def __init__(self, model, training_data, test_data, optimiser, loss_function):\n",
    "        self.model = model\n",
    "        self.training_data = training_data\n",
    "        self.test_data = test_data\n",
    "        self.optimiser = optimiser\n",
    "        self.loss_function = loss_function\n",
    "        \n",
    "        self.print_preview()\n",
    "        \n",
    "    def start(self, num_epochs):\n",
    "        self.train(num_epochs)\n",
    "        self.evaluate()\n",
    "        \n",
    "    def train(self, num_epochs):\n",
    "        print(\"\\nTraining \" + \"=\"*81 +\"\\n\")\n",
    "    \n",
    "        for epoch in range(num_epochs):\n",
    "            print(f\"Epoch: {epoch + 1} \" + \"=\"*80 + \">\")\n",
    "\n",
    "            total_loss = 0.0\n",
    "            for batch_idx, batch in enumerate(self.training_data):\n",
    "                images, labels = batch\n",
    "\n",
    "                # zero accumulated gradients\n",
    "                self.optimiser.zero_grad()\n",
    "\n",
    "                # forward pass\n",
    "                output = self.model(images)\n",
    "                # backward pass\n",
    "                loss = self.loss_function(output, labels)\n",
    "                loss.backward()\n",
    "                self.optimiser.step()\n",
    "\n",
    "                total_loss += loss.item()\n",
    "                # print progress\n",
    "\n",
    "                if (batch_idx + 1) % 1000 == 0:    # print every 1000 mini-batches\n",
    "                    print(\"[%4d/6000] loss: %.3f\" %\n",
    "                          (batch_idx + 1, total_loss / 1000))\n",
    "                    total_loss = 0.0\n",
    "\n",
    "        print(\"Finished Training \" + \"=\"*71 + \">\")\n",
    "        \n",
    "    def evaluate(self):\n",
    "        print(\"\\nEvaluation: \" + \"=\"*78 +\"\\n\")\n",
    "        correct = 0\n",
    "        total = 0\n",
    "        with torch.no_grad():\n",
    "            for data in self.test_data:\n",
    "                images, truth = data\n",
    "                output = self.model(images)\n",
    "                _, predicted = torch.max(output.data, 1)\n",
    "                total += truth.size(0)\n",
    "                correct += (predicted == truth).sum().item()\n",
    "\n",
    "        print('Test accuracy on %d test images: %.4f %%' % (total, 100 * correct / total))\n",
    "        \n",
    "    def print_preview(self):\n",
    "        print(\"=\"*90 + \"\\nExperiment preview:\\n\" + \"=\"*90)\n",
    "        print(\"\\nModel:\\n\" + \"=\"*90)\n",
    "        print(self.model)\n",
    "        print(\"\\nOptimiser:\\n\" + \"=\"*90)\n",
    "        print(self.optimiser)\n",
    "        print(\"\\nLoss Function:\\n\" + \"=\"*90)\n",
    "        print(self.loss_function)\n",
    "        "
   ]
  },
  {
   "cell_type": "markdown",
   "metadata": {},
   "source": [
    "## CIFAR-10 ResNet\n",
    "\n",
    "Now let's train a simplified ResNet model for CIFAR-10."
   ]
  },
  {
   "cell_type": "code",
   "execution_count": 84,
   "metadata": {},
   "outputs": [
    {
     "name": "stdout",
     "output_type": "stream",
     "text": [
      "==========================================================================================\n",
      "Experiment preview:\n",
      "==========================================================================================\n",
      "\n",
      "Model:\n",
      "==========================================================================================\n",
      "ConvNetModular(\n",
      "  (layers): ModuleList(\n",
      "    (0): ConvBlock(\n",
      "      (convolution_layers): ModuleList(\n",
      "        (0): Conv2d(3, 16, kernel_size=(3, 3), stride=(1, 1), padding=(1, 1))\n",
      "      )\n",
      "      (pool): MaxPool2d(kernel_size=2, stride=2, padding=0, dilation=1, ceil_mode=False)\n",
      "    )\n",
      "    (1): ResBlock(\n",
      "      (convolution_block): ModuleList(\n",
      "        (0): Conv2d(16, 16, kernel_size=(3, 3), stride=(1, 1), padding=(1, 1))\n",
      "        (1): Conv2d(16, 16, kernel_size=(3, 3), stride=(1, 1), padding=(1, 1))\n",
      "      )\n",
      "    )\n",
      "    (2): ResBlock(\n",
      "      (convolution_block): ModuleList(\n",
      "        (0): Conv2d(16, 16, kernel_size=(3, 3), stride=(1, 1), padding=(1, 1))\n",
      "        (1): Conv2d(16, 16, kernel_size=(3, 3), stride=(1, 1), padding=(1, 1))\n",
      "      )\n",
      "    )\n",
      "    (3): ResBlockTransition(\n",
      "      (convolution_block): ModuleList(\n",
      "        (0): Conv2d(16, 32, kernel_size=(3, 3), stride=(2, 2), padding=(1, 1))\n",
      "        (1): Conv2d(32, 32, kernel_size=(3, 3), stride=(1, 1), padding=(1, 1))\n",
      "        (2): Conv2d(32, 32, kernel_size=(3, 3), stride=(1, 1), padding=(1, 1))\n",
      "      )\n",
      "      (transition): Conv2d(16, 32, kernel_size=(1, 1), stride=(2, 2))\n",
      "    )\n",
      "    (4): AvgPool2d(kernel_size=2, stride=2, padding=0)\n",
      "    (5): Flatten()\n",
      "    (6): DenseNet(\n",
      "      (hidden_layers): ModuleList(\n",
      "        (0): Linear(in_features=512, out_features=10, bias=True)\n",
      "      )\n",
      "    )\n",
      "  )\n",
      ")\n",
      "\n",
      "Optimiser:\n",
      "==========================================================================================\n",
      "Adam (\n",
      "Parameter Group 0\n",
      "    amsgrad: False\n",
      "    betas: (0.9, 0.999)\n",
      "    eps: 1e-08\n",
      "    lr: 0.001\n",
      "    weight_decay: 0\n",
      ")\n",
      "\n",
      "Loss Function:\n",
      "==========================================================================================\n",
      "CrossEntropyLoss()\n"
     ]
    }
   ],
   "source": [
    "resnet_cifar10 = ConvNetModular(\n",
    "    [ConvBlock(in_channels=3,\n",
    "               out_channels=16,\n",
    "               kernel_size=3,\n",
    "               stride=1,\n",
    "               padding=1,\n",
    "               depth=1,\n",
    "               pool=\"MaxPool\"),\n",
    "     ResBlock(num_channels=16,\n",
    "              kernel_size=3,\n",
    "              depth=2),\n",
    "     ResBlock(num_channels=16,\n",
    "              kernel_size=3,\n",
    "              depth=2),\n",
    "     ResBlockTransition(in_channels=16,\n",
    "                        kernel_size=3,\n",
    "                        depth=3),\n",
    "     nn.AvgPool2d(2,2),\n",
    "     Flatten(),\n",
    "     DenseNet([512, 10])])\n",
    "\n",
    "cross_entropy = nn.CrossEntropyLoss()\n",
    "adam = optim.Adam(resnet_cifar10.parameters(), lr=0.001)\n",
    "\n",
    "exp1 = Experiment(resnet_cifar10, cifar10_trainloader, cifar10_testloader, adam, cross_entropy)"
   ]
  },
  {
   "cell_type": "code",
   "execution_count": 85,
   "metadata": {},
   "outputs": [
    {
     "name": "stdout",
     "output_type": "stream",
     "text": [
      "\n",
      "Training =================================================================================\n",
      "\n",
      "Epoch: 1 ================================================================================>\n",
      "[1000/6000] loss: 1.831\n",
      "[2000/6000] loss: 1.526\n",
      "[3000/6000] loss: 1.403\n",
      "[4000/6000] loss: 1.316\n",
      "[5000/6000] loss: 1.264\n",
      "Epoch: 2 ================================================================================>\n",
      "[1000/6000] loss: 1.174\n",
      "[2000/6000] loss: 1.140\n",
      "[3000/6000] loss: 1.100\n",
      "[4000/6000] loss: 1.057\n",
      "[5000/6000] loss: 1.037\n",
      "Epoch: 3 ================================================================================>\n",
      "[1000/6000] loss: 0.992\n",
      "[2000/6000] loss: 0.987\n",
      "[3000/6000] loss: 0.957\n",
      "[4000/6000] loss: 0.929\n",
      "[5000/6000] loss: 0.910\n",
      "Finished Training =======================================================================>\n",
      "\n",
      "Evaluation: ==============================================================================\n",
      "\n",
      "Test accuracy on 10000 test images: 65.8300 %\n"
     ]
    }
   ],
   "source": [
    "exp1.start(num_epochs=3)"
   ]
  },
  {
   "cell_type": "markdown",
   "metadata": {},
   "source": [
    "Finally we can preview a selection of images and what the model predicted their labels to be."
   ]
  },
  {
   "cell_type": "code",
   "execution_count": 91,
   "metadata": {},
   "outputs": [
    {
     "data": {
      "image/png": "[encoded data removed]",
      "text/plain": [
       "<Figure size 432x288 with 1 Axes>"
      ]
     },
     "metadata": {
      "needs_background": "light"
     },
     "output_type": "display_data"
    },
    {
     "name": "stdout",
     "output_type": "stream",
     "text": [
      "Groundtruth:    cat  ship  ship plane  frog  frog   car  frog   cat   car\n",
      "Predicted:    cat  ship  ship plane  frog  frog   car  deer   cat   car\n"
     ]
    }
   ],
   "source": [
    "preview(cifar10_testloader, cifar10_classes, (0.5, 2), model=exp1.model)"
   ]
  },
  {
   "cell_type": "code",
   "execution_count": null,
   "metadata": {},
   "outputs": [],
   "source": []
  }
 ],
 "metadata": {
  "kernelspec": {
   "display_name": "Python 3 (axiom)",
   "language": "python",
   "name": "axiom"
  },
  "language_info": {
   "codemirror_mode": {
    "name": "ipython",
    "version": 3
   },
   "file_extension": ".py",
   "mimetype": "text/x-python",
   "name": "python",
   "nbconvert_exporter": "python",
   "pygments_lexer": "ipython3",
   "version": "3.7.3"
  }
 },
 "nbformat": 4,
 "nbformat_minor": 2
}
