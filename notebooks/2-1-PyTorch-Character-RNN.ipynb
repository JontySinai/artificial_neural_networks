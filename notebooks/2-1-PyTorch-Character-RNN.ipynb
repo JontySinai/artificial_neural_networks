{
 "cells": [
  {
   "cell_type": "markdown",
   "metadata": {},
   "source": [
    "# Classifying Names with a Character-RNN in PyTorch\n",
    "\n",
    "Recurrent neural networks (RNN's) are a special class of neural network architectures which loop over sequences. If we thinkg of sequences as containing a time element, then the goal of an RNN is to encode this sequence over time and use it to make predictions. RNN's do this my keeping an internal representation of the sequence at each time step, known as the _memory_.\n",
    "\n",
    "The main challenge with RNN's is how to make this memory preserve information over long timespans while still ensuring that training is robust and efficient. This research has lead to many interesting types of RNN's architectures with various extensions and features. However in this [tutorial](https://pytorch.org/tutorials/intermediate/char_rnn_classification_tutorial.html), the focus will be on a simple character-level RNN.\n",
    "\n",
    "The goal will be to classify the origin language of a name, which is treated as a sequence of letters over time. \n",
    "\n",
    "```\n",
    "  (RNN)->(RNN)->(RNN)->(RNN)--> South Africa\n",
    "    ^    ^    ^    ^    ^\n",
    "    |    |    |    |    |\n",
    "    J -> O -> N -> T -> Y \n",
    "```"
   ]
  },
  {
   "cell_type": "code",
   "execution_count": 1,
   "metadata": {},
   "outputs": [
    {
     "data": {
      "text/plain": [
       "<torch._C.Generator at 0x7f194c038770>"
      ]
     },
     "execution_count": 1,
     "metadata": {},
     "output_type": "execute_result"
    }
   ],
   "source": [
    "import os\n",
    "import glob  # unix style pathname pattern matching/expansion\n",
    "import string\n",
    "import time\n",
    "import math\n",
    "import random\n",
    "import unicodedata\n",
    "\n",
    "from io import open\n",
    "\n",
    "import torch\n",
    "import torch.nn as nn\n",
    "\n",
    "import torch.optim as optim\n",
    "\n",
    "import numpy as np\n",
    "import matplotlib.pyplot as plt\n",
    "import matplotlib.ticker as ticker\n",
    "\n",
    "HOME = os.environ[\"AI_HOME\"]\n",
    "ROOT = os.path.join(HOME, \"artificial_neural_networks\")\n",
    "DATA = os.path.join(ROOT, \"data\")\n",
    "NAMES = os.path.join(DATA, \"names\")\n",
    "\n",
    "random.seed(1901)\n",
    "np.random.seed(1901)\n",
    "torch.manual_seed(1901)"
   ]
  },
  {
   "cell_type": "markdown",
   "metadata": {},
   "source": [
    "## Data Preprocessing\n",
    "\n",
    "Unlike image data which has standard data formats, libraries and dataloaders in PyTorch, text data is far more varied and assembling training and test data in the right format for deep learning often depends on the source data and the problem you're trying to solve. In this tutorial we will process data as follows:\n",
    "\n",
    "- Walk through files for each language\n",
    "- Extract names and convert to ASCII characters\n",
    "- Assign list of names to each language in a dictionary\n",
    "- Convert names to tensors using a character-level mapping\n",
    "\n",
    "### Parse Name Files\n",
    "\n",
    "For this tutorial, the [data](https://download.pytorch.org/tutorial/data.zip) is in the form of text files for each language class, with the filename indicating the class. I've saved the data in a directory called `names`. We can view the different languages in this directory by walking through each file and extracting the filename:"
   ]
  },
  {
   "cell_type": "code",
   "execution_count": 2,
   "metadata": {},
   "outputs": [],
   "source": [
    "def find_files(path_pattern):\n",
    "    \"\"\"Returns a list of files matching the provided path pattern\"\"\"\n",
    "    return glob.glob(path_pattern)"
   ]
  },
  {
   "cell_type": "code",
   "execution_count": 3,
   "metadata": {},
   "outputs": [
    {
     "name": "stdout",
     "output_type": "stream",
     "text": [
      "Arabic\n",
      "Chinese\n",
      "Czech\n",
      "Dutch\n",
      "English\n",
      "French\n",
      "German\n",
      "Greek\n",
      "Irish\n",
      "Italian\n",
      "Japanese\n",
      "Korean\n",
      "Polish\n",
      "Portuguese\n",
      "Russian\n",
      "Scottish\n",
      "Spanish\n",
      "Vietnamese\n"
     ]
    }
   ],
   "source": [
    "namefiles = find_files(os.path.join(NAMES, 'names', '*.txt'))\n",
    "\n",
    "for language_file in namefiles:\n",
    "    file = os.path.basename(language_file)\n",
    "    language, _ = os.path.splitext(file)\n",
    "    print(language)"
   ]
  },
  {
   "cell_type": "markdown",
   "metadata": {},
   "source": [
    "### ASCII Encoding"
   ]
  },
  {
   "cell_type": "markdown",
   "metadata": {},
   "source": [
    "To make training easier we'll restrict characters to ASCII. This reduces dimensionality of the input tensors."
   ]
  },
  {
   "cell_type": "code",
   "execution_count": 4,
   "metadata": {},
   "outputs": [],
   "source": [
    "ascii_letters = string.ascii_letters + \" .,;'\"\n",
    "n_letters = len(ascii_letters)"
   ]
  },
  {
   "cell_type": "code",
   "execution_count": 5,
   "metadata": {},
   "outputs": [],
   "source": [
    "def unicode_to_ascii(string_):\n",
    "    # ref: https://stackoverflow.com/a/518232/2809427\n",
    "    return ''.join(\n",
    "        char for char in unicodedata.normalize('NFD', string_)  # Unicode normal form decomposition of character\n",
    "        if unicodedata.category(char) != 'Mn'  # non-spacing mark characters\n",
    "        and char in ascii_letters)  # keep only ascii letters"
   ]
  },
  {
   "cell_type": "code",
   "execution_count": 6,
   "metadata": {},
   "outputs": [
    {
     "name": "stdout",
     "output_type": "stream",
     "text": [
      "Slusarski\n"
     ]
    }
   ],
   "source": [
    "print(unicode_to_ascii('Ślusàrski'))"
   ]
  },
  {
   "cell_type": "markdown",
   "metadata": {},
   "source": [
    "### Parse Names\n",
    "\n",
    "Each name is a single line in each language file. We'll parse names by reading the file line-by-line."
   ]
  },
  {
   "cell_type": "code",
   "execution_count": 7,
   "metadata": {},
   "outputs": [],
   "source": [
    "def parse_names(filename):\n",
    "    lines = open(filename, encoding='utf-8').read().strip().split('\\n')  # list of lines\n",
    "    return [unicode_to_ascii(name) for name in lines]"
   ]
  },
  {
   "cell_type": "code",
   "execution_count": 8,
   "metadata": {},
   "outputs": [
    {
     "name": "stdout",
     "output_type": "stream",
     "text": [
      "['Khoury', 'Nahas', 'Daher', 'Gerges', 'Nazari']\n"
     ]
    }
   ],
   "source": [
    "print(parse_names(os.path.join(NAMES, 'names', 'Arabic.txt'))[:5])"
   ]
  },
  {
   "cell_type": "markdown",
   "metadata": {},
   "source": [
    "### Organise Names\n",
    "\n",
    "Here we will organise the names for each language in a dictionary container."
   ]
  },
  {
   "cell_type": "code",
   "execution_count": 9,
   "metadata": {},
   "outputs": [],
   "source": [
    "language_names = {}\n",
    "language_classes = []\n",
    "\n",
    "for filename in find_files(os.path.join(NAMES, 'names', '*.txt')):\n",
    "    names = parse_names(filename)\n",
    "    language, _ = os.path.splitext(os.path.basename(filename))\n",
    "    language_classes.append(language)\n",
    "    language_names[language] = names\n",
    "    \n",
    "n_classes = len(language_classes)"
   ]
  },
  {
   "cell_type": "code",
   "execution_count": 10,
   "metadata": {},
   "outputs": [
    {
     "name": "stdout",
     "output_type": "stream",
     "text": [
      "['Smith', 'Brown', 'Wilson', 'Campbell', 'Stewart']\n"
     ]
    }
   ],
   "source": [
    "print(language_names['Scottish'][:5])"
   ]
  },
  {
   "cell_type": "markdown",
   "metadata": {},
   "source": [
    "### Convert Names to Tensors\n",
    "\n",
    "The following helper functions will convert names to tensors using the list index of each character in the `ascii_letters` list created earlier. Once we have that we can create onehot vectors for each letter and then finally we can do this for an entire name."
   ]
  },
  {
   "cell_type": "code",
   "execution_count": 11,
   "metadata": {},
   "outputs": [],
   "source": [
    "def letter2index(letter):\n",
    "    return ascii_letters.find(letter)\n",
    "\n",
    "def letter2tensor(letter):\n",
    "    tensor = torch.zeros(1, n_letters) # 1 x n_letters tensor\n",
    "    tensor[0][letter2index(letter)] = 1  # encode \"hot\" 1 at letter's index\n",
    "    return tensor\n",
    "\n",
    "def name2tensor(name):\n",
    "    seq_len = len(name)\n",
    "    tensor = torch.zeros(seq_len, 1, n_letters) # seq_len x 1 x n_letters tensor <-> seq_len x {onehot_tensors}\n",
    "    for idx, letter in enumerate(name):\n",
    "        tensor[idx][0][letter2index(letter)] = 1\n",
    "    return tensor"
   ]
  },
  {
   "cell_type": "code",
   "execution_count": 12,
   "metadata": {},
   "outputs": [
    {
     "name": "stdout",
     "output_type": "stream",
     "text": [
      "tensor([[0., 0., 0., 0., 0., 0., 0., 0., 0., 0., 0., 0., 0., 0., 0., 0., 0., 0.,\n",
      "         0., 0., 0., 0., 0., 0., 0., 0., 0., 0., 0., 0., 0., 0., 0., 0., 0., 1.,\n",
      "         0., 0., 0., 0., 0., 0., 0., 0., 0., 0., 0., 0., 0., 0., 0., 0., 0., 0.,\n",
      "         0., 0., 0.]])\n"
     ]
    }
   ],
   "source": [
    "print(letter2tensor('J'))"
   ]
  },
  {
   "cell_type": "code",
   "execution_count": 13,
   "metadata": {},
   "outputs": [
    {
     "name": "stdout",
     "output_type": "stream",
     "text": [
      "tensor([[[0., 0., 0., 0., 0., 0., 0., 0., 0., 0., 0., 0., 0., 0., 0., 0., 0.,\n",
      "          0., 0., 0., 0., 0., 0., 0., 0., 0., 0., 0., 0., 0., 0., 0., 0., 0.,\n",
      "          0., 1., 0., 0., 0., 0., 0., 0., 0., 0., 0., 0., 0., 0., 0., 0., 0.,\n",
      "          0., 0., 0., 0., 0., 0.]],\n",
      "\n",
      "        [[0., 0., 0., 0., 0., 0., 0., 0., 0., 0., 0., 0., 0., 0., 1., 0., 0.,\n",
      "          0., 0., 0., 0., 0., 0., 0., 0., 0., 0., 0., 0., 0., 0., 0., 0., 0.,\n",
      "          0., 0., 0., 0., 0., 0., 0., 0., 0., 0., 0., 0., 0., 0., 0., 0., 0.,\n",
      "          0., 0., 0., 0., 0., 0.]],\n",
      "\n",
      "        [[0., 0., 0., 0., 0., 0., 0., 0., 0., 0., 0., 0., 0., 1., 0., 0., 0.,\n",
      "          0., 0., 0., 0., 0., 0., 0., 0., 0., 0., 0., 0., 0., 0., 0., 0., 0.,\n",
      "          0., 0., 0., 0., 0., 0., 0., 0., 0., 0., 0., 0., 0., 0., 0., 0., 0.,\n",
      "          0., 0., 0., 0., 0., 0.]],\n",
      "\n",
      "        [[0., 0., 0., 0., 0., 0., 0., 0., 0., 0., 0., 0., 0., 0., 0., 0., 0.,\n",
      "          0., 0., 1., 0., 0., 0., 0., 0., 0., 0., 0., 0., 0., 0., 0., 0., 0.,\n",
      "          0., 0., 0., 0., 0., 0., 0., 0., 0., 0., 0., 0., 0., 0., 0., 0., 0.,\n",
      "          0., 0., 0., 0., 0., 0.]],\n",
      "\n",
      "        [[0., 0., 0., 0., 0., 0., 0., 0., 0., 0., 0., 0., 0., 0., 0., 0., 0.,\n",
      "          0., 0., 0., 0., 0., 0., 0., 1., 0., 0., 0., 0., 0., 0., 0., 0., 0.,\n",
      "          0., 0., 0., 0., 0., 0., 0., 0., 0., 0., 0., 0., 0., 0., 0., 0., 0.,\n",
      "          0., 0., 0., 0., 0., 0.]]])\n"
     ]
    }
   ],
   "source": [
    "print(name2tensor('Jonty'))"
   ]
  },
  {
   "cell_type": "code",
   "execution_count": 14,
   "metadata": {},
   "outputs": [
    {
     "name": "stdout",
     "output_type": "stream",
     "text": [
      "torch.Size([5, 1, 57])\n"
     ]
    }
   ],
   "source": [
    "print(name2tensor('Jonty').size())"
   ]
  },
  {
   "cell_type": "markdown",
   "metadata": {},
   "source": [
    "## Recurrent Neural Network\n",
    "\n",
    "Although PyTorch already contains optimised recurrent neural network modules, for the sake of learning we'll implement an RNN from scratch using base PyTorch `nn` modules, using the following control flow:\n",
    "\n",
    "<img src=\"assets/rnn.png\">"
   ]
  },
  {
   "cell_type": "code",
   "execution_count": 15,
   "metadata": {},
   "outputs": [],
   "source": [
    "class RNN(nn.Module):\n",
    "    \n",
    "    def __init__(self, input_size, hidden_size, output_size):\n",
    "        super().__init__()\n",
    "        \n",
    "        self.hidden_size = hidden_size\n",
    "        \n",
    "        self.out_gate = nn.Linear(input_size + hidden_size, output_size)  #i2o in the diagram\n",
    "        self.memory_gate = nn.Linear(input_size + hidden_size, hidden_size)  #i2h in the diagram\n",
    "        self.softmax = nn.LogSoftmax(dim=1)\n",
    "        \n",
    "    def forward(self, input_, hidden):\n",
    "        combined = torch.cat((input_, hidden), 1)  # concat input seq with hidden state\n",
    "        \n",
    "        hidden = self.memory_gate(combined)\n",
    "        \n",
    "        output = self.out_gate(combined)\n",
    "        output = self.softmax(output)\n",
    "        \n",
    "        return output, hidden\n",
    "    \n",
    "    def init_hidden(self):\n",
    "        return torch.zeros(1, self.hidden_size)  # in an RNN we also need to initialise the memory\n",
    "    "
   ]
  },
  {
   "cell_type": "code",
   "execution_count": 16,
   "metadata": {},
   "outputs": [
    {
     "name": "stdout",
     "output_type": "stream",
     "text": [
      "RNN(\n",
      "  (out_gate): Linear(in_features=185, out_features=18, bias=True)\n",
      "  (memory_gate): Linear(in_features=185, out_features=128, bias=True)\n",
      "  (softmax): LogSoftmax()\n",
      ")\n"
     ]
    }
   ],
   "source": [
    "n_hidden = 128\n",
    "\n",
    "rnn = RNN(input_size=n_letters, hidden_size=n_hidden, output_size=n_classes)\n",
    "print(rnn)"
   ]
  },
  {
   "cell_type": "markdown",
   "metadata": {},
   "source": [
    "In principle we apply this RNN to each character in a name (as a sequence of characters)"
   ]
  },
  {
   "cell_type": "code",
   "execution_count": 17,
   "metadata": {},
   "outputs": [
    {
     "name": "stdout",
     "output_type": "stream",
     "text": [
      "Output size:  torch.Size([1, 18])\n",
      "Hidden size:  torch.Size([1, 128])\n"
     ]
    }
   ],
   "source": [
    "input_ = letter2tensor('J')\n",
    "hidden = torch.zeros(1, n_hidden)\n",
    "\n",
    "output, next_hidden = rnn(input_, hidden)\n",
    "\n",
    "print(\"Output size: \", output.size())\n",
    "print(\"Hidden size: \", next_hidden.size())"
   ]
  },
  {
   "cell_type": "markdown",
   "metadata": {},
   "source": [
    "However for the sake of efficiency we will convert the entire name to the tensor and pass each character as a slice of this tensor:"
   ]
  },
  {
   "cell_type": "code",
   "execution_count": 18,
   "metadata": {},
   "outputs": [
    {
     "name": "stdout",
     "output_type": "stream",
     "text": [
      "Output size:  torch.Size([1, 18])\n",
      "Hidden size:  torch.Size([1, 128])\n"
     ]
    }
   ],
   "source": [
    "input_ = name2tensor('Jonty')\n",
    "hidden = torch.zeros(1, n_hidden)\n",
    "\n",
    "output, next_hidden = rnn(input_[0], hidden)\n",
    "print(\"Output size: \", output.size())\n",
    "print(\"Hidden size: \", next_hidden.size())"
   ]
  },
  {
   "cell_type": "code",
   "execution_count": 19,
   "metadata": {},
   "outputs": [
    {
     "name": "stdout",
     "output_type": "stream",
     "text": [
      "tensor([[-2.8581, -2.9214, -2.8579, -2.8422, -2.9206, -2.8311, -2.8924, -2.8813,\n",
      "         -2.8951, -2.9975, -2.8237, -2.9043, -2.9316, -2.8723, -2.9691, -2.8691,\n",
      "         -2.9062, -2.8705]], grad_fn=<LogSoftmaxBackward>)\n"
     ]
    }
   ],
   "source": [
    "print(output)"
   ]
  },
  {
   "cell_type": "markdown",
   "metadata": {},
   "source": [
    "The output is a _softmax categorical distribution_ over the language class. During training we'll optimise the probabilies, given the input. We'll use the following helper function to indicate which language the RNN thinks is most probable:"
   ]
  },
  {
   "cell_type": "code",
   "execution_count": 20,
   "metadata": {},
   "outputs": [],
   "source": [
    "def predict_language(output):\n",
    "    top_n, top_i = output.topk(1)\n",
    "    max_idx = top_i[0].item()\n",
    "    return language_classes[max_idx], max_idx"
   ]
  },
  {
   "cell_type": "code",
   "execution_count": 21,
   "metadata": {},
   "outputs": [
    {
     "data": {
      "text/plain": [
       "('Japanese', 10)"
      ]
     },
     "execution_count": 21,
     "metadata": {},
     "output_type": "execute_result"
    }
   ],
   "source": [
    "predict_language(output)"
   ]
  },
  {
   "cell_type": "markdown",
   "metadata": {},
   "source": [
    "## Training\n",
    "\n",
    "Next we would like to train the RNN. We would like to train the RNN in batches over several epochs. To do so we will need to create a batch generator over the training data."
   ]
  },
  {
   "cell_type": "code",
   "execution_count": 22,
   "metadata": {},
   "outputs": [],
   "source": [
    "def random_choice(list_):\n",
    "    return list_[random.randint(0, len(list_) - 1)]\n",
    "\n",
    "def random_training_example():\n",
    "    language = random_choice(language_classes)\n",
    "    name = random_choice(language_names[language])\n",
    "    language_tensor = torch.tensor([language_classes.index(language)], dtype=torch.long)  # index of language\n",
    "    name_tensor = name2tensor(name)\n",
    "    \n",
    "    return language, name, language_tensor, name_tensor"
   ]
  },
  {
   "cell_type": "code",
   "execution_count": 23,
   "metadata": {},
   "outputs": [
    {
     "name": "stdout",
     "output_type": "stream",
     "text": [
      "(Bonaventura, Spanish)\n",
      "(Sugitani, Japanese)\n",
      "(Velgus, Russian)\n",
      "(Woo, Korean)\n",
      "(Nifterik, Dutch)\n",
      "(Ganim, Arabic)\n",
      "(Murphy, Irish)\n",
      "(Quinton, English)\n",
      "(Yin, Chinese)\n",
      "(Teague, Irish)\n"
     ]
    }
   ],
   "source": [
    "for _ in range(10):\n",
    "    language, name, language_tensor, name_tensor = random_training_example()\n",
    "    print(f'({name}, {language})')"
   ]
  },
  {
   "cell_type": "markdown",
   "metadata": {},
   "source": [
    "To train the RNN we need to go through each name (iterate through the data) and over each character in the name (iterate through time). The optimisation step is applied over all characters to each name and is known as _backpropagation through time_. We'll use a timer function to keep track of training time."
   ]
  },
  {
   "cell_type": "code",
   "execution_count": 24,
   "metadata": {},
   "outputs": [],
   "source": [
    "def timeSince(since):\n",
    "    now = time.time()\n",
    "    s = now - since\n",
    "    m = math.floor(s / 60)\n",
    "    s -= m * 60\n",
    "    return '%dm %ds' % (m, s)"
   ]
  },
  {
   "cell_type": "code",
   "execution_count": 25,
   "metadata": {},
   "outputs": [],
   "source": [
    "log_likelihood = nn.NLLLoss()\n",
    "optimiser = optim.SGD(rnn.parameters(), lr = 0.005)"
   ]
  },
  {
   "cell_type": "code",
   "execution_count": 26,
   "metadata": {},
   "outputs": [],
   "source": [
    "def backprop_through_time(name_tensor, language_tensor):\n",
    "    hidden = rnn.init_hidden()\n",
    "    \n",
    "    rnn.zero_grad()\n",
    "    for i in range(name_tensor.size()[0]):\n",
    "        output, hidden = rnn(name_tensor[i], hidden)\n",
    "    \n",
    "    loss = log_likelihood(output, language_tensor)\n",
    "    loss.backward()\n",
    "    optimiser.step()\n",
    "    \n",
    "    return output, loss.item()"
   ]
  },
  {
   "cell_type": "code",
   "execution_count": 27,
   "metadata": {},
   "outputs": [],
   "source": [
    "def train(num_iters, print_every, plot_every):\n",
    "    \n",
    "    current_loss = 0.0\n",
    "    all_losses = []\n",
    "    \n",
    "    start = time.time()\n",
    "    \n",
    "    for iter_ in range(1, num_iters + 1):\n",
    "        language, name, language_tensor, name_tensor = random_training_example()\n",
    "        output, loss = backprop_through_time(name_tensor, language_tensor)\n",
    "        current_loss += loss\n",
    "        \n",
    "        # Print iteration number, loss, name and guess\n",
    "        if iter_ % print_every == 0:\n",
    "            guess, _ = predict_language(output)\n",
    "            correct = '✓' if guess == language else '✗ (%s)' % language\n",
    "            print('%d %d%% (%s) %.4f %s / %s %s' % (\n",
    "                iter_, iter_ / num_iters * 100, timeSince(start), loss, name, guess, correct))\n",
    "\n",
    "        # Add current loss avg to list of losses\n",
    "        if iter_ % plot_every == 0:\n",
    "            all_losses.append(current_loss / plot_every)\n",
    "            current_loss = 0\n",
    "            \n",
    "    return all_losses"
   ]
  },
  {
   "cell_type": "code",
   "execution_count": 28,
   "metadata": {},
   "outputs": [
    {
     "name": "stdout",
     "output_type": "stream",
     "text": [
      "5000 5% (0m 6s) 2.6313 Macghabhann / Scottish ✗ (Irish)\n",
      "10000 10% (0m 13s) 2.3983 Travers / Portuguese ✗ (French)\n",
      "15000 15% (0m 20s) 2.1819 V'Yugin / Irish ✗ (Russian)\n",
      "20000 20% (0m 27s) 2.0035 Ahearn / Dutch ✗ (Irish)\n",
      "25000 25% (0m 34s) 1.3481 Chew / Korean ✗ (Chinese)\n",
      "30000 30% (0m 41s) 1.9320 Traversa / Spanish ✗ (Italian)\n",
      "35000 35% (0m 48s) 0.0535 O'Donnell / Irish ✓\n",
      "40000 40% (0m 55s) 0.2347 Porohovschikov / Russian ✓\n",
      "45000 45% (1m 1s) 0.1808 Sfakianos / Greek ✓\n",
      "50000 50% (1m 8s) 1.4721 Reid / Scottish ✓\n",
      "55000 55% (1m 14s) 0.3227 Wegener / German ✓\n",
      "60000 60% (1m 21s) 2.2450 Pawson / Scottish ✗ (English)\n",
      "65000 65% (1m 27s) 0.9304 Ibarra / Spanish ✓\n",
      "70000 70% (1m 33s) 0.3597 Rim / Korean ✓\n",
      "75000 75% (1m 40s) 1.2124 Ngai / Korean ✓\n",
      "80000 80% (1m 47s) 0.1502 Avetisov / Russian ✓\n",
      "85000 85% (1m 54s) 0.7546 Teoh / Chinese ✓\n",
      "90000 90% (2m 1s) 1.8436 Altamura / Spanish ✗ (Italian)\n",
      "95000 95% (2m 8s) 1.2984 Bisset / French ✓\n",
      "100000 100% (2m 16s) 0.7675 Barros / Portuguese ✓\n"
     ]
    }
   ],
   "source": [
    "all_losses = train(num_iters=100000, print_every=5000, plot_every=1000)"
   ]
  },
  {
   "cell_type": "code",
   "execution_count": 29,
   "metadata": {},
   "outputs": [
    {
     "data": {
      "text/plain": [
       "[<matplotlib.lines.Line2D at 0x7f1906ae4518>]"
      ]
     },
     "execution_count": 29,
     "metadata": {},
     "output_type": "execute_result"
    },
    {
     "data": {
      "image/png": "[encoded data removed]",
      "text/plain": [
       "<Figure size 432x288 with 1 Axes>"
      ]
     },
     "metadata": {
      "needs_background": "light"
     },
     "output_type": "display_data"
    }
   ],
   "source": [
    "plt.figure()\n",
    "plt.plot(all_losses)"
   ]
  },
  {
   "cell_type": "markdown",
   "metadata": {},
   "source": [
    "## Evaluation\n",
    "\n",
    "Finally we will see how well our model performed on different categories by creating a confusion matrix where rows represent the actual language and columns the predicted. The intensity of the colours will indicate how many times a model predicted a name from language i as coming from language j.\n",
    "\n",
    "### RNN Prediction\n",
    "\n",
    "To make predictions using the RNN we run every character in the input through the cell and use the final output to make the prediction. We can think of the RNN as refining its guess with each new character."
   ]
  },
  {
   "cell_type": "code",
   "execution_count": 34,
   "metadata": {},
   "outputs": [],
   "source": [
    "def predict(name_tensor):\n",
    "    with torch.no_grad():\n",
    "        hidden = rnn.init_hidden()\n",
    "\n",
    "        for i in range(name_tensor.size()[0]):\n",
    "            output, hidden = rnn(name_tensor[i], hidden)\n",
    "        \n",
    "        return output"
   ]
  },
  {
   "cell_type": "code",
   "execution_count": 35,
   "metadata": {},
   "outputs": [],
   "source": [
    "def evaluate_confusion(num_eval_samples):\n",
    "    confusion = torch.zeros(n_classes, n_classes)\n",
    "    \n",
    "    for i in range(num_eval_samples):\n",
    "        # groundtruth\n",
    "        language, name, language_tensor, name_tensor = random_training_example()\n",
    "        language_idx = language_classes.index(language)\n",
    "        # prediction\n",
    "        output = predict(name_tensor)\n",
    "        guess, guess_idx = predict_language(output)\n",
    "        \n",
    "        confusion[language_idx][guess_idx] += 1\n",
    "        \n",
    "    # normalize every row\n",
    "    for i in range(n_classes):\n",
    "        confusion[i] = confusion[i] / confusion[i].sum()\n",
    "        \n",
    "    return confusion"
   ]
  },
  {
   "cell_type": "code",
   "execution_count": 38,
   "metadata": {},
   "outputs": [],
   "source": [
    "def plot_confusion(confusion):\n",
    "    \n",
    "    # set up plot\n",
    "    fig = plt.figure()\n",
    "    ax = fig.add_subplot(111)\n",
    "    cax = ax.matshow(confusion.numpy())\n",
    "    fig.colorbar(cax)\n",
    "\n",
    "    # set up axes\n",
    "    ax.set_xticklabels([''] + language_classes, rotation=90)\n",
    "    ax.set_yticklabels([''] + language_classes)\n",
    "\n",
    "    # force label at every tick\n",
    "    ax.xaxis.set_major_locator(ticker.MultipleLocator(1))\n",
    "    ax.yaxis.set_major_locator(ticker.MultipleLocator(1))\n",
    "\n",
    "    plt.show()"
   ]
  },
  {
   "cell_type": "code",
   "execution_count": 39,
   "metadata": {},
   "outputs": [],
   "source": [
    "confusion = evaluate_confusion(num_eval_samples=10000)"
   ]
  },
  {
   "cell_type": "code",
   "execution_count": 40,
   "metadata": {},
   "outputs": [
    {
     "data": {
      "image/png": "[encoded data removed]",
      "text/plain": [
       "<Figure size 432x288 with 2 Axes>"
      ]
     },
     "metadata": {
      "needs_background": "light"
     },
     "output_type": "display_data"
    }
   ],
   "source": [
    "plot_confusion(confusion)"
   ]
  },
  {
   "cell_type": "code",
   "execution_count": null,
   "metadata": {},
   "outputs": [],
   "source": []
  }
 ],
 "metadata": {
  "kernelspec": {
   "display_name": "Python 3 (axiom)\n",
   "language": "python",
   "name": "axiom"
  },
  "language_info": {
   "codemirror_mode": {
    "name": "ipython",
    "version": 3
   },
   "file_extension": ".py",
   "mimetype": "text/x-python",
   "name": "python",
   "nbconvert_exporter": "python",
   "pygments_lexer": "ipython3",
   "version": "3.7.3"
  }
 },
 "nbformat": 4,
 "nbformat_minor": 2
}
