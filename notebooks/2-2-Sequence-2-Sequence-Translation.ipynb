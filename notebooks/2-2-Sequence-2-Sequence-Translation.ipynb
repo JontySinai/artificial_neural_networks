{
 "cells": [
  {
   "cell_type": "markdown",
   "metadata": {},
   "source": [
    "# Translation with Sequence-to-Sequence Models in PyTorch\n",
    "\n",
    "Sequence-to-sequence models are a general class of recurrent neural networks which map an input sequence to an output sequence. The high-level architecture is based on a classic idea in information theory where an input signal is processed by an _encode_, _transmitted_ and then _decoded_ by another model to produce an output signal.\n",
    "\n",
    "In sequence-to-sequence models the _encoder_ and _decoder_ are recurrent neural networks (or some variant) themselves. The basic idea generalises to a wide variety of architectures, as long as they are end-to-end differentiable.\n",
    "\n",
    "Here I will follow this [tutorial](https://pytorch.org/tutorials/intermediate/seq2seq_translation_tutorial.html#sphx-glr-intermediate-seq2seq-translation-tutorial-py) except to translate English sentences into French sentences."
   ]
  },
  {
   "cell_type": "code",
   "execution_count": 1,
   "metadata": {},
   "outputs": [
    {
     "data": {
      "text/plain": [
       "<torch._C.Generator at 0x10d14eed0>"
      ]
     },
     "execution_count": 1,
     "metadata": {},
     "output_type": "execute_result"
    }
   ],
   "source": [
    "import os\n",
    "import re\n",
    "import time\n",
    "import math\n",
    "import string\n",
    "import glob\n",
    "import random\n",
    "import unicodedata\n",
    "\n",
    "from io import open\n",
    "\n",
    "import torch\n",
    "import torch.nn as nn\n",
    "import torch.nn.functional as F\n",
    "import torch.optim as optim\n",
    "from torch.utils.data import Dataset, DataLoader, SubsetRandomSampler\n",
    "\n",
    "import numpy as np\n",
    "import matplotlib.pyplot as plt\n",
    "plt.switch_backend('agg')\n",
    "import matplotlib.ticker as ticker\n",
    "\n",
    "HOME = os.environ['AI_HOME']\n",
    "ROOT = os.path.join(HOME, 'artificial_neural_networks')\n",
    "DATA = os.path.join(ROOT, 'data')\n",
    "ENG_FR = os.path.join(DATA, 'english_french')\n",
    "\n",
    "random.seed(1901)\n",
    "np.random.seed(1901)\n",
    "torch.manual_seed(1901)"
   ]
  },
  {
   "cell_type": "markdown",
   "metadata": {},
   "source": [
    "## Data Preprocessing\n",
    "\n",
    "English-French sentence pairs can be downloaded [here](https://download.pytorch.org/tutorial/data.zip) (the original data comes from [https://tatoeba.org/eng/downloads](https://tatoeba.org/eng/downloads) and has been paired thanks to [https://www.manythings.org/anki/](https://www.manythings.org/anki/). \n",
    "\n",
    "Once again we'll need to do the hardwork of preprocessing this data into tensors which we can feed into our model. Since this is a sequence-to-sequence model, we'll need to be careful to ensure that pairs of input-output sequences are aligned during training.\n",
    "\n",
    "The data is stored on one file with each line representing an English-French sentence pair. Each English and French sentence is separated by a tab."
   ]
  },
  {
   "cell_type": "markdown",
   "metadata": {},
   "source": [
    "### String Encoding and Normalisation\n",
    "\n",
    "The files are all in unicode which we will simplify to ASCII."
   ]
  },
  {
   "cell_type": "code",
   "execution_count": 2,
   "metadata": {},
   "outputs": [],
   "source": [
    "def unicode_to_ascii(string_):\n",
    "    # ref: https://stackoverflow.com/a/518232/2809427\n",
    "    return ''.join(\n",
    "        char for char in unicodedata.normalize('NFD', string_)  # Unicode normal form decomposition of character\n",
    "        if unicodedata.category(char) != 'Mn')  # non-spacing mark characters"
   ]
  },
  {
   "cell_type": "code",
   "execution_count": 3,
   "metadata": {},
   "outputs": [
    {
     "name": "stdout",
     "output_type": "stream",
     "text": [
      "Go.\tVa !\n",
      "Run!\tCours !\n",
      "Run!\tCourez !\n",
      "Wow!\tCa alors !\n",
      "Fire!\tAu feu !\n"
     ]
    }
   ],
   "source": [
    "sentences = open(os.path.join(ENG_FR, 'eng-fra.txt'), encoding='utf-8').read().strip().split('\\n')\n",
    "\n",
    "for line in sentences[:5]:\n",
    "    print(unicode_to_ascii(line))"
   ]
  },
  {
   "cell_type": "markdown",
   "metadata": {},
   "source": [
    "It will be helpful to normalise the strings to lowercase and remove non-letter characters."
   ]
  },
  {
   "cell_type": "code",
   "execution_count": 4,
   "metadata": {},
   "outputs": [],
   "source": [
    "def normalize_string(string_):\n",
    "    string_ = unicode_to_ascii(string_.lower().strip())\n",
    "    string_ = re.sub(r\"([.!?])\", r\" \\1\", string_)\n",
    "    string_ = re.sub(r\"[^a-zA-Z.!?]+\", r\" \", string_)\n",
    "    return string_"
   ]
  },
  {
   "cell_type": "code",
   "execution_count": 5,
   "metadata": {},
   "outputs": [
    {
     "name": "stdout",
     "output_type": "stream",
     "text": [
      "go . va !\n",
      "run ! cours !\n",
      "run ! courez !\n",
      "wow ! ca alors !\n",
      "fire ! au feu !\n"
     ]
    }
   ],
   "source": [
    "for line in sentences[:5]:\n",
    "    print(normalize_string(line))"
   ]
  },
  {
   "cell_type": "markdown",
   "metadata": {},
   "source": [
    "### Vocabulary Indexing\n",
    "\n",
    "The English and French sentences need to be indexed for conversion to tensors. However we'll need to be careful not to mix up the indexing between the two languages. To save time and ensure that preprocessing scopes are kept local to each language we'll implement a class to manage preprocessing for each.\n",
    "\n",
    "Each vocabulary will be a dictionary map between words and a unique index representing their one-hot-encoding index.\n",
    "\n",
    "In sequence-to-sequence models we also use two special tokens to indicate the start and end of sentence. These will be the first two tokens in our dictionary mapping for each language.\n",
    "\n",
    "<img src=\"assets/word-encoding.png\">"
   ]
  },
  {
   "cell_type": "code",
   "execution_count": 6,
   "metadata": {},
   "outputs": [],
   "source": [
    "SOS_token = 0\n",
    "EOS_token = 1\n",
    "\n",
    "class Vocab:\n",
    "    \n",
    "    def __init__(self, name):\n",
    "        self.name = name\n",
    "        self.word2index = {}\n",
    "        self.word2count = {}\n",
    "        self.index2word = {0: \"SOS\", 1: \"EOS\"}\n",
    "        self.n_words = 2  # only have SOS and EOS so far\n",
    "\n",
    "    def add_sentence(self, sentence):\n",
    "        for word in sentence.split(' '):\n",
    "            self.add_word(word)\n",
    "\n",
    "    def add_word(self, word):\n",
    "        if word not in self.word2index:\n",
    "            self.word2index[word] = self.n_words  # use total count to index new word\n",
    "            self.index2word[self.n_words] = word \n",
    "            self.word2count[word] = 1\n",
    "            self.n_words += 1 \n",
    "        else:\n",
    "            self.word2count[word] += 1\n",
    "        "
   ]
  },
  {
   "cell_type": "markdown",
   "metadata": {},
   "source": [
    "We'll use this class to maps words to indices and indices back to words.\n",
    "\n",
    "## File-Vocabulary I/O\n",
    "\n",
    "Next we'll define a function to read in language pairs and create vocabularies. We've seen earlier that the sentence pairs are in the order `English -> French`. If we want to reverse the translation we can use a reverse flag to change which language is the input language and which is the output language."
   ]
  },
  {
   "cell_type": "code",
   "execution_count": 7,
   "metadata": {},
   "outputs": [],
   "source": [
    "def read_vocab(path, in_lang, out_lang, reverse=False):\n",
    "    \"\"\"\n",
    "    Args:\n",
    "        path (str): Path to language file in form: lang1-lang2.txt.\n",
    "        in_lang (str): Name to use for input language.\n",
    "        out_lang (str): Name to use for output language.\n",
    "        reverse (bool): If true reverse the roles of in_lang and out_lang.\n",
    "        \n",
    "    Note:\n",
    "        The sentence pairs are always parsed as in_lang -> out_lang,\n",
    "        unless reverse is true.\n",
    "    \"\"\"\n",
    "    \n",
    "    # read the file and split into lines\n",
    "    sentences = open(path, encoding='utf-8').\\\n",
    "        read().strip().split('\\n')\n",
    "    \n",
    "    # split every line into pairs and normalize\n",
    "    pairs = [[normalize_string(s) for s in l.split('\\t')] for l in sentences]  # [[en_1, fr_1], [en2_, fr_2], ... ]\n",
    "    \n",
    "    # init vocabularies\n",
    "    if reverse:\n",
    "        pairs = [list(reversed(p)) for p in pairs]\n",
    "        input_vocab = Vocab(out_lang)\n",
    "        output_vocab = Vocab(in_lang)\n",
    "    else:\n",
    "        input_vocab = Vocab(in_lang)\n",
    "        output_vocab = Vocab(out_lang)\n",
    "\n",
    "    return input_vocab, output_vocab, pairs\n",
    "    "
   ]
  },
  {
   "cell_type": "markdown",
   "metadata": {},
   "source": [
    "### Sequence Filters\n",
    "\n",
    "To make training quick and to reduce model size and complexity we'll restrict sentences to a maximum sequence length (including ending punctuation).\n",
    "\n",
    "We'll also filter to the specific case translating to sentences of the form \"He is ...\", \"She is ...\" etc."
   ]
  },
  {
   "cell_type": "code",
   "execution_count": 8,
   "metadata": {},
   "outputs": [],
   "source": [
    "def keep(pair, max_seq_length, reverse=False):\n",
    "    eng_sent_prefixes = (\"i am \", \"i m \",\n",
    "                    \"he is\", \"he s \",\n",
    "                    \"she is\", \"she s \",\n",
    "                    \"you are\", \"you re \",\n",
    "                    \"we are\", \"we re \",\n",
    "                    \"they are\", \"they re \")\n",
    "    if reverse:\n",
    "        eng = pair[1]\n",
    "        fr = pair[0]\n",
    "    else:\n",
    "        eng = pair[0]\n",
    "        fr = pair[1]\n",
    "        \n",
    "    condition =  len(fr.split(' ')) < max_seq_length and \\\n",
    "                 len(eng.split(' ')) < max_seq_length and eng.startswith(eng_sent_prefixes)\n",
    "    \n",
    "    return condition\n",
    "\n",
    "def filter_pairs(pairs, max_seq_length, reverse=False):\n",
    "    return [pair for pair in pairs if keep(pair, max_seq_length, reverse)]"
   ]
  },
  {
   "cell_type": "markdown",
   "metadata": {},
   "source": [
    "### Preprocessing: Putting Everything Together\n",
    "\n",
    "We'll use one function which handles all the preprocessing (this could also be implemented as a class with greater engineering sophistication and complexity), covering:\n",
    "\n",
    "- read sentences, split into pairs and init vocabs\n",
    "- filter pairs by length and content (if they start with certain prefixes)\n",
    "- encode each pair as ASCII and normalise\n",
    "- add new words to each respective vocabulary"
   ]
  },
  {
   "cell_type": "code",
   "execution_count": 9,
   "metadata": {},
   "outputs": [],
   "source": [
    "def preprocess_sentence_pairs(path, in_lang, out_lang, max_seq_length, reverse=False):\n",
    "    \n",
    "    input_vocab, output_vocab, pairs = read_vocab(path, in_lang, out_lang, reverse)\n",
    "    print(f\"Total number of {in_lang}-{out_lang} sentence pairs: {len(pairs)}\")\n",
    "    \n",
    "    pairs = filter_pairs(pairs, max_seq_length, reverse)\n",
    "    print(f\"Total number of pairs after filtering: {len(pairs)}\")\n",
    "    \n",
    "    print(\"Adding words to respective vocabularies ...\")\n",
    "    for pair in pairs:\n",
    "        input_vocab.add_sentence(pair[0])\n",
    "        output_vocab.add_sentence(pair[1])\n",
    "    \n",
    "    print(\"Total number of words:\")\n",
    "    print(f\"\\tInput: {input_vocab.name}: {input_vocab.n_words}\")\n",
    "    print(f\"\\tOutput: {output_vocab.name}: {output_vocab.n_words}\")\n",
    "    \n",
    "    return input_vocab, output_vocab, pairs\n",
    "    "
   ]
  },
  {
   "cell_type": "code",
   "execution_count": 10,
   "metadata": {},
   "outputs": [
    {
     "name": "stdout",
     "output_type": "stream",
     "text": [
      "Total number of English-French sentence pairs: 135842\n",
      "Total number of pairs after filtering: 10599\n",
      "Adding words to respective vocabularies ...\n",
      "Total number of words:\n",
      "\tInput: English: 2803\n",
      "\tOutput: French: 4345\n"
     ]
    }
   ],
   "source": [
    "input_vocab, output_vocab, pairs = preprocess_sentence_pairs(\n",
    "                                        path = os.path.join(ENG_FR, 'eng-fra.txt'), \n",
    "                                        in_lang = \"English\", \n",
    "                                        out_lang = \"French\", \n",
    "                                        max_seq_length = 10, \n",
    "                                        reverse=False)"
   ]
  },
  {
   "cell_type": "markdown",
   "metadata": {},
   "source": [
    "## Conversion to Tensors\n",
    "\n",
    "Now that we've done preprocessing, we will need to convert each sentence in each vocabulary to tensors. PyTorch's `nn.Embedding` layer does not require onehot vectors as input. Instead we can just pass a vector of indices corresponding to each word in the sequence. Normally we would restrict this vector to a maximum sequence length and pad each each sequence with zeros for batching effiency in a PyTorch `Dataloader`. \n",
    "\n",
    "### Torch Dataset\n",
    "\n",
    "We'll use a Torch Dataset to handle conversion of the data using the vocabs and pairs defined earlier."
   ]
  },
  {
   "cell_type": "code",
   "execution_count": 11,
   "metadata": {},
   "outputs": [],
   "source": [
    "class TranslationDataset(Dataset):\n",
    "    \n",
    "    def __init__(self, input_vocab, output_vocab, pairs):\n",
    "        self.SOS_token = 0\n",
    "        self.EOS_token = 1\n",
    "        self.input_vocab = input_vocab\n",
    "        self.output_vocab = output_vocab\n",
    "        self.tensor_pairs = []\n",
    "        \n",
    "        self.add_tensors(pairs)\n",
    "        \n",
    "    def add_tensors(self, pairs):\n",
    "        for pair in pairs:\n",
    "            input_tensor, output_tensor = self.pair2tensors(pair)\n",
    "            self.tensor_pairs.append((input_tensor, output_tensor))\n",
    "            \n",
    "    def __getitem__(self, index):\n",
    "        input_tensor, output_tensor = self.tensor_pairs[index]\n",
    "        return input_tensor, output_tensor\n",
    "        \n",
    "    def sentence2sequence(self, vocab, sentence):      \n",
    "        return [vocab.word2index[word] for word in sentence.split()]\n",
    "    \n",
    "    def sentence2tensor(self, vocab, sentence):\n",
    "        sequence = self.sentence2sequence(vocab, sentence)\n",
    "        sequence.append(self.EOS_token)\n",
    "        \n",
    "        return torch.tensor(sequence, dtype=torch.long).view(-1, 1)  # seq_len x 1 tensor\n",
    "    \n",
    "    def pair2tensors(self, pair):\n",
    "        input_tensor = self.sentence2tensor(self.input_vocab, pair[0])\n",
    "        output_tensor = self.sentence2tensor(self.output_vocab, pair[1])\n",
    "        return input_tensor, output_tensor\n",
    "    \n",
    "    def __len__(self):\n",
    "        return len(self.tensor_pairs)"
   ]
  },
  {
   "cell_type": "code",
   "execution_count": 12,
   "metadata": {},
   "outputs": [
    {
     "name": "stdout",
     "output_type": "stream",
     "text": [
      "10599\n"
     ]
    }
   ],
   "source": [
    "english_french_dataset = TranslationDataset(input_vocab, output_vocab, pairs)\n",
    "\n",
    "print(len(english_french_dataset))"
   ]
  },
  {
   "cell_type": "markdown",
   "metadata": {},
   "source": [
    "Let's now inspect what our tensors look like. We'll look at a sentence pair at an arbitrary index."
   ]
  },
  {
   "cell_type": "code",
   "execution_count": 13,
   "metadata": {},
   "outputs": [
    {
     "name": "stdout",
     "output_type": "stream",
     "text": [
      "Input sequence:  torch.Size([5, 1])\n",
      "Output sequence:  torch.Size([6, 1])\n"
     ]
    }
   ],
   "source": [
    "input_tensor, output_tensor = english_french_dataset[42]\n",
    "\n",
    "print(\"Input sequence: \", input_tensor.size())\n",
    "print(\"Output sequence: \", output_tensor.size())"
   ]
  },
  {
   "cell_type": "code",
   "execution_count": 14,
   "metadata": {},
   "outputs": [
    {
     "name": "stdout",
     "output_type": "stream",
     "text": [
      "tensor([[ 2],\n",
      "        [ 3],\n",
      "        [33],\n",
      "        [ 4],\n",
      "        [ 1]])\n"
     ]
    }
   ],
   "source": [
    "print(input_tensor)"
   ]
  },
  {
   "cell_type": "markdown",
   "metadata": {},
   "source": [
    "We can use the English vocab to convert this sentence back into words:"
   ]
  },
  {
   "cell_type": "code",
   "execution_count": 15,
   "metadata": {},
   "outputs": [
    {
     "name": "stdout",
     "output_type": "stream",
     "text": [
      "i m sure . EOS\n"
     ]
    }
   ],
   "source": [
    "sentence = ' '.join(input_vocab.index2word[idx.item()] for idx in input_tensor.view(-1))\n",
    "print(sentence)"
   ]
  },
  {
   "cell_type": "code",
   "execution_count": 16,
   "metadata": {},
   "outputs": [
    {
     "name": "stdout",
     "output_type": "stream",
     "text": [
      "tensor([[ 2],\n",
      "        [14],\n",
      "        [11],\n",
      "        [50],\n",
      "        [ 5],\n",
      "        [ 1]])\n"
     ]
    }
   ],
   "source": [
    "print(output_tensor)"
   ]
  },
  {
   "cell_type": "code",
   "execution_count": 17,
   "metadata": {},
   "outputs": [
    {
     "name": "stdout",
     "output_type": "stream",
     "text": [
      "j en suis certain . EOS\n"
     ]
    }
   ],
   "source": [
    "sentence = ' '.join(output_vocab.index2word[idx.item()] for idx in output_tensor.view(-1))\n",
    "print(sentence)"
   ]
  },
  {
   "cell_type": "markdown",
   "metadata": {},
   "source": [
    "### Dataloader\n",
    "\n",
    "Finally let's define a dataloader for this dataset."
   ]
  },
  {
   "cell_type": "code",
   "execution_count": 18,
   "metadata": {},
   "outputs": [],
   "source": [
    "split_at = int(0.8 * len(pairs)) \n",
    "train_indices = range(split_at + 1)\n",
    "test_indices = range(split_at, len(pairs))"
   ]
  },
  {
   "cell_type": "code",
   "execution_count": 19,
   "metadata": {},
   "outputs": [],
   "source": [
    "en_fr_trainloader = DataLoader(english_french_dataset, sampler=SubsetRandomSampler(train_indices), num_workers=0)\n",
    "en_fr_testloader = DataLoader(english_french_dataset, sampler=SubsetRandomSampler(test_indices), num_workers=0)"
   ]
  },
  {
   "cell_type": "markdown",
   "metadata": {},
   "source": [
    "## RNN-Encoder-Decoder\n",
    "\n",
    "The first type of sequence-to-sequence model we will look at is the [RNN-Encode-Decoder](https://arxiv.org/abs/1406.1078), also known as [seq2seq](https://arxiv.org/abs/1409.3215) (both papers appeared at roughly the same time and ideas from both are used in modern sequence-to-sequence models).\n",
    "\n",
    "The RNN-Encoder-Decoder is split into two parts, an _encoder RNN_ and a _decoder RNN_. \n",
    "\n",
    "<img src=\"assets/seq2seq.png\">\n",
    "\n",
    "The **encoder** loops through the input sequence, updating its internal memory of the input over time, until it encounters the `<EOS>` token. At this point the last _hidden state_, known as the _context vector_ is **transmitted** to the **decoder**. The decoder works slightly differently during training and prediction.\n",
    "\n",
    "- At training time, the **decoder** is provided with the `SOS` token at $t_0$ and tries to predict the next word. At the next time step, $t_1$, the correct word is fed as input to the decoder which then tries to predict the next word at time $t_2$ and so on. This is known as **teacher forcing**.\n",
    "- At prediction time, the **decoder** is once again provided with an `SOS` token at $t_0$, however the prediction made for $t_1$ is then fed back into the network at time $t_1$ in order to make a prediction at time $t_2$. This process continues until the decoder has predicted an `EOS` token.\n",
    "\n",
    "Note that using the `SOS` and `EOS` tokens, there is no need for the input and output sequences to align or have the same length. This makes the sequence-to-sequence architecture highly flexible.\n",
    "\n",
    "### Encoder Module\n",
    "\n",
    "We'll start by constructing the encoder network which behaves like a normal RNN, taking the current input and previous hidden state and passing them throught a GRU or LSTM cell. Since the sequence space is discrete, we will use an embedding layer to transform each onehot vector encoding into a continuous vector representation.\n",
    "\n",
    "<img src=\"assets/encoder-network.png\">"
   ]
  },
  {
   "cell_type": "code",
   "execution_count": 20,
   "metadata": {},
   "outputs": [],
   "source": [
    "class EncoderRNN(nn.Module):\n",
    "    \n",
    "    def __init__(self, input_size, hidden_size, cell='GRU'):\n",
    "        super().__init__()\n",
    "        self.hidden_size = hidden_size\n",
    "        \n",
    "        self.embedding = nn.Embedding(input_size, hidden_size)  # map inputs to same dimensionality as hidden states\n",
    "        \n",
    "        if cell == 'GRU':\n",
    "            self.cell = nn.GRU(hidden_size, hidden_size)\n",
    "        elif cell == 'LSTM':\n",
    "            self.cell = nn.LSTM(hidden_size, hidden_size)\n",
    "        else:\n",
    "            raise ValueError(f'Unsupported cell type {cell}!')\n",
    "            \n",
    "    def forward(self, input_, hidden):\n",
    "        embedded = self.embedding(input_).view(1, 1, -1)  # hidden states are 1x1xhidden_size tensors\n",
    "        output, hidden = self.cell(embedded, hidden)\n",
    "        return output, hidden\n",
    "    \n",
    "    def init_hidden(self):\n",
    "        return torch.zeros(1, 1, self.hidden_size)"
   ]
  },
  {
   "cell_type": "markdown",
   "metadata": {},
   "source": [
    "### Decoder Module\n",
    "\n",
    "The decoder module is slightly more complex. We use a relu activation function between the input and RNN cell as an additional nonlinearity and a softmax layer for the output.\n",
    "\n",
    "<img src=\"assets/decoder-network.png\">"
   ]
  },
  {
   "cell_type": "code",
   "execution_count": 21,
   "metadata": {},
   "outputs": [],
   "source": [
    "class DecoderRNN(nn.Module):\n",
    "    \n",
    "    def __init__(self, output_size, hidden_size, cell='GRU'):\n",
    "        super().__init__()\n",
    "        self.hidden_size = hidden_size\n",
    "        \n",
    "        self.embedding = nn.Embedding(output_size, hidden_size)\n",
    "        \n",
    "        if cell == 'GRU':\n",
    "            self.cell = nn.GRU(hidden_size, hidden_size)\n",
    "        elif cell == 'LSTM':\n",
    "            self.cell = nn.LSTM(hidden_size, hidden_size)\n",
    "        else:\n",
    "            raise ValueError(f'Unsupported cell type {cell}!')\n",
    "            \n",
    "        self.linear = nn.Linear(hidden_size, output_size)\n",
    "        self.softmax = nn.LogSoftmax(dim=1)\n",
    "        \n",
    "    def forward(self, input_, hidden):\n",
    "        embedded = F.relu(self.embedding(input_)).view(1, 1, -1)\n",
    "        output, hidden = self.cell(embedded, hidden)\n",
    "        output = self.softmax(self.linear(output[0]))  # output is 1x1xhidden_size and we need 1xhidden_size\n",
    "        return output, hidden\n",
    "    \n",
    "    def init_hidden(self):\n",
    "        return torch.zeros(1, 1, self.hidden_size)\n",
    "        "
   ]
  },
  {
   "cell_type": "markdown",
   "metadata": {},
   "source": [
    "## Train Functions"
   ]
  },
  {
   "cell_type": "code",
   "execution_count": 22,
   "metadata": {},
   "outputs": [],
   "source": [
    "def asMinutes(s):\n",
    "    m = math.floor(s / 60)\n",
    "    s -= m * 60\n",
    "    return '%dm %ds' % (m, s)\n",
    "\n",
    "\n",
    "def timeSince(since, percent):\n",
    "    now = time.time()\n",
    "    s = now - since\n",
    "    es = s / (percent)\n",
    "    rs = es - s\n",
    "    return '%s (- %s)' % (asMinutes(s), asMinutes(rs))\n",
    "\n",
    "def showPlot(points):\n",
    "    plt.figure()\n",
    "    fig, ax = plt.subplots()\n",
    "    # this locator puts ticks at regular intervals\n",
    "    loc = ticker.MultipleLocator(base=0.2)\n",
    "    ax.yaxis.set_major_locator(loc)\n",
    "    plt.plot(points)"
   ]
  },
  {
   "cell_type": "code",
   "execution_count": 23,
   "metadata": {},
   "outputs": [],
   "source": [
    "def backprop_through_time(input_, target, encoder, decoder, encoder_optimiser, \n",
    "                          decoder_optimiser, loss_function, max_seq_length,\n",
    "                          teacher_forcing_ratio, use_attention=False):\n",
    "    input_length = input_.size(0)\n",
    "    target_length = target.size(0)\n",
    "    \n",
    "    loss = 0\n",
    "    \n",
    "    # zero gradients\n",
    "    encoder_optimiser.zero_grad()\n",
    "    decoder_optimiser.zero_grad()\n",
    "    \n",
    "    # encoder forward\n",
    "    encoder_hidden = encoder.init_hidden()\n",
    "    if use_attention:\n",
    "        encoder_outputs = torch.zeros(max_seq_length, encoder.hidden_size)\n",
    "    \n",
    "    for idx in range(input_length):\n",
    "        encouder_output, encoder_hidden = encoder(input_[idx], encoder_hidden)\n",
    "        if use_attention:\n",
    "            encoder_outputs[idx] = encouder_output[0, 0]\n",
    "        \n",
    "    # decoder forward\n",
    "    decoder_hidden = encoder_hidden  # context vector passed to decoder\n",
    "    decoder_input = torch.tensor([[SOS_token]])\n",
    "    \n",
    "    use_teacher_forcing = True if random.random() < teacher_forcing_ratio else False\n",
    "    \n",
    "    for idx in range(target_length):\n",
    "        if use_attention:\n",
    "            decoder_output, decoder_hidden, decoder_attention = decoder(\n",
    "                decoder_input, decoder_hidden, encoder_outputs)\n",
    "        else:\n",
    "            decoder_output, decoder_hidden = decoder(decoder_input, decoder_hidden)\n",
    "            \n",
    "        if use_teacher_forcing:\n",
    "            # feed target as next input\n",
    "            decoder_input = target[idx]\n",
    "        else:\n",
    "            top_vals, top_idxs = decoder_output.topk(1)\n",
    "            # feed predicted indices as next input\n",
    "            decoder_input = top_idxs.squeeze().detach()  # detach from history as input\n",
    "            # if reached EOS_token, then stop using predictions\n",
    "            if decoder_input.item() == EOS_token:\n",
    "                loss += loss_function(decoder_output, target[idx])\n",
    "                break\n",
    "        \n",
    "        loss += loss_function(decoder_output, target[idx])\n",
    "    \n",
    "    # --- backpropagate through time ---\n",
    "    \n",
    "    # if decoder predictions <EOS> rightaway, then loss is type int \n",
    "    \n",
    "    # notice that autograd will differentiate through the accumulated sum of loss in the for loop\n",
    "    loss.backward()\n",
    "\n",
    "    encoder_optimiser.step()\n",
    "    decoder_optimiser.step()\n",
    "\n",
    "    return loss.item() / target_length\n",
    "        "
   ]
  },
  {
   "cell_type": "code",
   "execution_count": 80,
   "metadata": {},
   "outputs": [],
   "source": [
    "def train(encoder, decoder, training_set, learning_rate, num_epochs, print_every, plot_every,\n",
    "          max_seq_length, teacher_forcing_ratio, use_attention):\n",
    "    \n",
    "    loss_function = nn.NLLLoss()\n",
    "    \n",
    "    encoder_optimiser = optim.SGD(encoder.parameters(), lr=learning_rate, momentum=0.9)\n",
    "    decoder_optimiser = optim.SGD(decoder.parameters(), lr=learning_rate, momentum=0.9)\n",
    "    \n",
    "    print(\"\\nTraining \" + \"=\"*81 +\"\\n\")\n",
    "    \n",
    "    if use_attention:\n",
    "        print(\"-\"*36 + \" Using Attention \" + \"-\"*37 + \"\\n\")\n",
    "    \n",
    "    start = time.time()\n",
    "    \n",
    "    plot_losses = []\n",
    "    for epoch in range(num_epochs):\n",
    "        print(f\"Epoch: {epoch + 1} \" + \"=\"*80 + \">\")\n",
    "        \n",
    "        running_loss_plot = 0\n",
    "        running_loss_print = 0\n",
    "        \n",
    "        for idx, batch in enumerate(training_set):\n",
    "            input_, target = batch\n",
    "            \n",
    "            if len(input_) < 1:\n",
    "                continue\n",
    "            \n",
    "            input_ = input_.view(-1, 1)  # seq_len x batch_size\n",
    "            target = target.view(-1, 1)\n",
    "            \n",
    "            loss_item = backprop_through_time(input_, target, encoder, decoder, encoder_optimiser, \n",
    "                          decoder_optimiser, loss_function, max_seq_length,\n",
    "                          teacher_forcing_ratio, use_attention=use_attention)\n",
    "            \n",
    "            running_loss_print += loss_item\n",
    "            running_loss_plot += loss_item\n",
    "            \n",
    "            if (idx + 1) % print_every == 0:\n",
    "                print_loss_avg = running_loss_print / print_every\n",
    "                running_loss_print = 0.\n",
    "                percent_all_epochs_done = ((epoch * len(training_set)) + idx + 1) / (len(training_set) * (num_epochs))\n",
    "                print('%s (%d/%d) %.4f' % (timeSince(start, percent_all_epochs_done),\n",
    "                                             (idx + 1), len(training_set), print_loss_avg))\n",
    "\n",
    "            if (idx + 1) % plot_every == 0:\n",
    "                plot_loss_avg = running_loss_plot / plot_every\n",
    "                plot_losses.append(plot_loss_avg)\n",
    "                running_loss_plot = 0.\n",
    "    \n",
    "    print(\"Finished Training \" + \"=\"*71 + \">\")\n",
    "    showPlot(plot_losses)\n",
    "    "
   ]
  },
  {
   "cell_type": "code",
   "execution_count": 64,
   "metadata": {},
   "outputs": [
    {
     "data": {
      "text/plain": [
       "'18m 18s'"
      ]
     },
     "execution_count": 64,
     "metadata": {},
     "output_type": "execute_result"
    }
   ],
   "source": [
    "num_epochs = 3\n",
    "epoch = 0\n",
    "idx = 1000\n",
    "((epoch * len(en_fr_trainloader)) + idx + 1) / (len(en_fr_trainloader) * (num_epochs))\n",
    "# ((num_epochs * len(en_fr_trainloader)) + idx + 1) / (len(en_fr_trainloader) * (num_epochs + 1))\n",
    "\n",
    "es = 45 / (((epoch * len(en_fr_trainloader)) + idx + 1) / (len(en_fr_trainloader) * (num_epochs)))\n",
    "rs = es - 45\n",
    "asMinutes(rs)"
   ]
  },
  {
   "cell_type": "markdown",
   "metadata": {},
   "source": [
    "## RNN-Encoder-Decoder - Training Loop"
   ]
  },
  {
   "cell_type": "code",
   "execution_count": 66,
   "metadata": {},
   "outputs": [],
   "source": [
    "encoder = EncoderRNN(input_size=input_vocab.n_words, hidden_size=128, cell='GRU')  # input_vocab_size = 2803\n",
    "decoder = DecoderRNN(output_size=output_vocab.n_words, hidden_size=128, cell='GRU')  # input_vocab_size = 4345"
   ]
  },
  {
   "cell_type": "code",
   "execution_count": 67,
   "metadata": {},
   "outputs": [
    {
     "name": "stdout",
     "output_type": "stream",
     "text": [
      "\n",
      "Training =================================================================================\n",
      "\n",
      "Epoch: 1 ================================================================================>\n",
      "0m 41s (- 16m 44s) (1000/8480) 3.9771\n",
      "1m 20s (- 15m 39s) (2000/8480) 4.0990\n",
      "2m 5s (- 15m 37s) (3000/8480) 3.9181\n",
      "3m 4s (- 16m 28s) (4000/8480) 3.9322\n",
      "3m 46s (- 15m 25s) (5000/8480) 3.4938\n",
      "4m 30s (- 14m 37s) (6000/8480) 3.3350\n",
      "5m 17s (- 13m 57s) (7000/8480) 3.1784\n",
      "6m 6s (- 13m 18s) (8000/8480) 3.0622\n",
      "Epoch: 2 ================================================================================>\n",
      "7m 15s (- 12m 13s) (1000/8480) 2.8294\n",
      "8m 6s (- 11m 34s) (2000/8480) 2.7220\n",
      "8m 51s (- 10m 46s) (3000/8480) 2.8321\n",
      "9m 36s (- 9m 59s) (4000/8480) 2.7874\n",
      "10m 24s (- 9m 13s) (5000/8480) 2.7971\n",
      "11m 15s (- 8m 30s) (6000/8480) 2.6859\n",
      "12m 2s (- 7m 45s) (7000/8480) 2.7293\n",
      "12m 47s (- 6m 57s) (8000/8480) 2.6684\n",
      "Epoch: 3 ================================================================================>\n",
      "13m 56s (- 5m 48s) (1000/8480) 2.3974\n",
      "14m 42s (- 5m 1s) (2000/8480) 2.3308\n",
      "15m 34s (- 4m 16s) (3000/8480) 2.4467\n",
      "16m 24s (- 3m 30s) (4000/8480) 2.4772\n",
      "17m 18s (- 2m 44s) (5000/8480) 2.3984\n",
      "18m 18s (- 1m 58s) (6000/8480) 2.4585\n",
      "19m 5s (- 1m 10s) (7000/8480) 2.3826\n",
      "19m 59s (- 0m 23s) (8000/8480) 2.3791\n"
     ]
    },
    {
     "data": {
      "text/plain": [
       "<Figure size 432x288 with 0 Axes>"
      ]
     },
     "metadata": {},
     "output_type": "display_data"
    },
    {
     "data": {
      "image/png": "[encoded data removed]",
      "text/plain": [
       "<Figure size 432x288 with 1 Axes>"
      ]
     },
     "metadata": {
      "needs_background": "light"
     },
     "output_type": "display_data"
    }
   ],
   "source": [
    "train(encoder, decoder, en_fr_trainloader, learning_rate=0.01, num_epochs=3, print_every=1000, plot_every=100, \n",
    "      max_seq_length=10, teacher_forcing_ratio=0.5, use_attention=False)"
   ]
  },
  {
   "cell_type": "markdown",
   "metadata": {},
   "source": [
    "## Attention Module\n",
    "\n",
    "We will now implement an attention module which is a softmax distribution over the outputs of the encoder. At each time step in the output sequence, the attention module tells the decoder how much \"attention\" (i.e. weights) the decoder should put on each time step from the input sequence.\n",
    "\n",
    "A simplified schematic is shown below:\n",
    "\n",
    "<img src=\"assets/attention-layer.png\">\n",
    "\n",
    "Implementing the attention layer as part of the decoder invovles a bit more work. There are essentially two paths: \n",
    "\n",
    "- The first path takes the decoder input with the previous hidden state (similar to the reular decoder) and applies it through an _attention layer_ to calculate a set of **attention weights**.\n",
    "- The second path takes the outputs from the encoder and performs a _batch matrix multiplication_ (`torch.bmm`) with the attention weights. This places an _attention_ on the encoder outputs to produce an **attention-weighted context vector**.\n",
    "- The attention context vector is concatenated with the input embedding and passed through a linear layer to produce a new **attention-mapped embedding vector**.\n",
    "- This vector is then finally passed together with the previous hidden state through the GRU cell.\n",
    "\n",
    "The whole picture looks like this:\n",
    "\n",
    "<img src=\"assets/attention-decoder.png\">"
   ]
  },
  {
   "cell_type": "code",
   "execution_count": 85,
   "metadata": {},
   "outputs": [],
   "source": [
    "class AttnDecoderRNN(nn.Module):\n",
    "    \n",
    "    def __init__(self, output_size, hidden_size, max_length):\n",
    "        super().__init__()\n",
    "        self.hidden_size = hidden_size\n",
    "        self.output_size = output_size\n",
    "        self.max_length = max_length\n",
    "        \n",
    "        self.embedding = nn.Embedding(self.output_size, self.hidden_size)\n",
    "        # attention module ---------------------------------------------------->\n",
    "        self.attention_layer = nn.Linear(self.hidden_size * 2, self.max_length)  # embedded x hidden -> attn weights\n",
    "        self.attention_map = nn.Linear(self.hidden_size * 2, self.hidden_size)  # attn vec x hiden -> hidden\n",
    "        # ---------------------------------------------------------------------->\n",
    "        self.cell = nn.GRU(self.hidden_size, self.hidden_size)\n",
    "        self.linear = nn.Linear(self.hidden_size, self.output_size)\n",
    "        \n",
    "    def forward(self, input_, hidden, encoder_outputs):\n",
    "        embedded = F.relu(self.embedding(input_)).view(1, 1, -1)\n",
    "        embedded_hidden = torch.cat((embedded[0], hidden[0]), 1)\n",
    "        # attention module ---------------------------------------------------->\n",
    "        attention_weights = F.softmax(self.attention_layer(embedded_hidden), dim=1)\n",
    "        attention_context = torch.bmm(attention_weights.unsqueeze(0), encoder_outputs.unsqueeze(0))\n",
    "        embedded_attention = torch.cat((embedded[0], attention_context[0]), 1)\n",
    "        embedded_attention = F.relu(self.attention_map(embedded_attention).unsqueeze(0))\n",
    "        # ---------------------------------------------------------------------->\n",
    "        output, hidden = self.cell(embedded_attention, hidden)\n",
    "        output = F.log_softmax(self.linear(output[0]), dim=1)\n",
    "        \n",
    "        return output, hidden, attention_weights\n",
    "    \n",
    "    def init_hidden(self):\n",
    "        return torch.zeros(1, 1, self.hidden_size)"
   ]
  },
  {
   "cell_type": "markdown",
   "metadata": {},
   "source": [
    "## RNN-Attention-Encoder-Decoder - Training Loop"
   ]
  },
  {
   "cell_type": "code",
   "execution_count": 82,
   "metadata": {},
   "outputs": [],
   "source": [
    "encoder_attn = EncoderRNN(input_size=input_vocab.n_words, hidden_size=128, cell='GRU')  # input_vocab_size = 2803\n",
    "decoder_attn = AttnDecoderRNN(output_size=output_vocab.n_words, hidden_size=128, max_length=10)  # input_vocab_size = 4345"
   ]
  },
  {
   "cell_type": "code",
   "execution_count": 83,
   "metadata": {},
   "outputs": [
    {
     "name": "stdout",
     "output_type": "stream",
     "text": [
      "\n",
      "Training =================================================================================\n",
      "\n",
      "------------------------------------ Using Attention -------------------------------------\n",
      "\n",
      "Epoch: 1 ================================================================================>\n",
      "0m 44s (- 17m 55s) (1000/8480) 3.6763\n",
      "1m 28s (- 17m 16s) (2000/8480) 3.2867\n",
      "2m 14s (- 16m 43s) (3000/8480) 3.1258\n",
      "2m 59s (- 16m 4s) (4000/8480) 2.9977\n",
      "3m 45s (- 15m 22s) (5000/8480) 2.9297\n",
      "4m 33s (- 14m 46s) (6000/8480) 2.8520\n",
      "5m 17s (- 13m 57s) (7000/8480) 2.9074\n",
      "6m 10s (- 13m 27s) (8000/8480) 2.8448\n",
      "Epoch: 2 ================================================================================>\n",
      "7m 28s (- 12m 35s) (1000/8480) 2.5726\n",
      "8m 26s (- 12m 2s) (2000/8480) 2.5222\n",
      "9m 20s (- 11m 22s) (3000/8480) 2.6151\n",
      "10m 6s (- 10m 29s) (4000/8480) 2.5722\n",
      "10m 53s (- 9m 39s) (5000/8480) 2.5700\n",
      "11m 40s (- 8m 50s) (6000/8480) 2.6035\n",
      "12m 33s (- 8m 4s) (7000/8480) 2.6635\n",
      "13m 19s (- 7m 14s) (8000/8480) 2.5903\n",
      "Epoch: 3 ================================================================================>\n",
      "14m 26s (- 6m 1s) (1000/8480) 2.2989\n",
      "15m 12s (- 5m 11s) (2000/8480) 2.3408\n",
      "15m 57s (- 4m 22s) (3000/8480) 2.4392\n",
      "16m 45s (- 3m 34s) (4000/8480) 2.4878\n",
      "17m 30s (- 2m 46s) (5000/8480) 2.5906\n",
      "18m 15s (- 1m 58s) (6000/8480) 2.4172\n",
      "19m 0s (- 1m 10s) (7000/8480) 2.5265\n",
      "19m 45s (- 0m 22s) (8000/8480) 2.5795\n",
      "Finished Training =======================================================================>\n"
     ]
    },
    {
     "data": {
      "text/plain": [
       "<Figure size 432x288 with 0 Axes>"
      ]
     },
     "metadata": {},
     "output_type": "display_data"
    },
    {
     "data": {
      "image/png": "[encoded data removed]",
      "text/plain": [
       "<Figure size 432x288 with 1 Axes>"
      ]
     },
     "metadata": {
      "needs_background": "light"
     },
     "output_type": "display_data"
    }
   ],
   "source": [
    "train(encoder_attn, decoder_attn, en_fr_trainloader, learning_rate=0.01, num_epochs=3, print_every=1000, plot_every=100, \n",
    "      max_seq_length=10, teacher_forcing_ratio=0.5, use_attention=True)"
   ]
  },
  {
   "cell_type": "markdown",
   "metadata": {},
   "source": [
    "## Evaluation Functions"
   ]
  },
  {
   "cell_type": "code",
   "execution_count": null,
   "metadata": {},
   "outputs": [],
   "source": []
  }
 ],
 "metadata": {
  "kernelspec": {
   "display_name": "Python 3 (axiom)",
   "language": "python",
   "name": "axiom"
  },
  "language_info": {
   "codemirror_mode": {
    "name": "ipython",
    "version": 3
   },
   "file_extension": ".py",
   "mimetype": "text/x-python",
   "name": "python",
   "nbconvert_exporter": "python",
   "pygments_lexer": "ipython3",
   "version": "3.7.3"
  }
 },
 "nbformat": 4,
 "nbformat_minor": 2
}
