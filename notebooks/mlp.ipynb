{
 "cells": [
  {
   "cell_type": "markdown",
   "metadata": {},
   "source": [
    "# Multilayer Perceptron in PyTorch\n",
    "\n",
    "**|| Jonty Sinai ||** 06-04-2019\n",
    "\n",
    "In this notebook I explore creating a barebones multilayer perceptron (MLP) using PyTorch. I'll create useful functions providing an interface for testing the MLP on two classic (and low compute) datasets, namely MNIST and CIFAR-10"
   ]
  },
  {
   "cell_type": "code",
   "execution_count": 2,
   "metadata": {},
   "outputs": [
    {
     "data": {
      "text/plain": [
       "<torch._C.Generator at 0x11ebf7950>"
      ]
     },
     "execution_count": 2,
     "metadata": {},
     "output_type": "execute_result"
    }
   ],
   "source": [
    "%matplotlib inline\n",
    "\n",
    "import os\n",
    "import random\n",
    "\n",
    "import numpy as np\n",
    "\n",
    "import torch\n",
    "import torch.nn as nn\n",
    "import torch.nn.functional as F\n",
    "import torch.optim as optim\n",
    "\n",
    "import torchvision\n",
    "from torchvision import transforms\n",
    "\n",
    "import matplotlib.pyplot as plt\n",
    "\n",
    "\n",
    "HOME = os.environ['AI_HOME']\n",
    "ROOT = os.path.join(HOME, 'artificial_neural_networks')\n",
    "DATA = os.path.join(ROOT, 'data')\n",
    "MNIST = os.path.join(DATA, 'mnist')\n",
    "CIFAR10 = os.path.join(DATA, 'cifar10')\n",
    "\n",
    "random.seed(1901)\n",
    "np.random.seed(1901)\n",
    "torch.manual_seed(1901)"
   ]
  },
  {
   "cell_type": "markdown",
   "metadata": {},
   "source": [
    "## Simple MLP\n",
    "\n",
    "The simplest MLP has 1 hidden layer. By convention, this is known as a **2-layer MLP**. \n",
    "\n",
    "<br/>\n",
    "<img src=\"./assets/mlp.png\" width=\"538\">\n",
    "<br/>\n",
    "\n",
    "source: [S. An, Georgia Tech](https://www.cc.gatech.edu/~san37/post/dlhc-fnn/)\n",
    "\n",
    "\n",
    "\n",
    "The MNIST and CIFAR10 datasets have different dimensionality, so we will use specify a `size` argument for the size of the first layer.\n",
    "\n",
    "> **Note:** Typically the final output layer for an MLP classifier will pass through a _softmax_ nonlinearity. PyTorch however does not require the final output softmax function in the neural network module if `CrossEntropyLoss` is used which combines the `LogSoftmax` layer with `NLLLoss` (negative log-likelihood loss)."
   ]
  },
  {
   "cell_type": "code",
   "execution_count": 15,
   "metadata": {},
   "outputs": [],
   "source": [
    "class MLP(nn.Module):\n",
    "    \n",
    "    def __init__(self, num_features, num_hidden_units, num_classes):\n",
    "        super().__init__()\n",
    "        self.hidden_layer = nn.Linear(num_features, num_hidden_units)\n",
    "        self.output_layer = nn.Linear(num_hidden_units, num_classes)\n",
    "        \n",
    "    def forward(self, x):\n",
    "        a = F.relu(self.hidden_layer(x))\n",
    "        y = self.output_layer(a)\n",
    "        return y"
   ]
  },
  {
   "cell_type": "markdown",
   "metadata": {},
   "source": [
    "### Test Case:"
   ]
  },
  {
   "cell_type": "code",
   "execution_count": 3,
   "metadata": {},
   "outputs": [
    {
     "name": "stdout",
     "output_type": "stream",
     "text": [
      "MLP(\n",
      "  (hidden_layer): Linear(in_features=10, out_features=20, bias=True)\n",
      "  (output_layer): Linear(in_features=20, out_features=2, bias=True)\n",
      ")\n"
     ]
    }
   ],
   "source": [
    "mlp = MLP(10, 20, 2)\n",
    "print(mlp)"
   ]
  },
  {
   "cell_type": "code",
   "execution_count": 4,
   "metadata": {},
   "outputs": [
    {
     "name": "stdout",
     "output_type": "stream",
     "text": [
      "tensor([[ 0.5602,  0.1049],\n",
      "        [-0.2771,  0.2300],\n",
      "        [-0.2079, -0.0459],\n",
      "        [-0.3734,  0.2108],\n",
      "        [-0.1725,  0.1221]], grad_fn=<AddmmBackward>)\n"
     ]
    }
   ],
   "source": [
    "x = torch.randn(5, 10)\n",
    "\n",
    "y = mlp(x)\n",
    "print(y)"
   ]
  },
  {
   "cell_type": "markdown",
   "metadata": {},
   "source": [
    "## MNIST\n",
    "\n",
    "[MNIST](http://yann.lecun.com/exdb/mnist/) is considered the `\"Hello World\"` of machine learning, so let's go. `torchvision` conveniently includes a dataloader for MNIST. The dataloader will load the MNIST as `PIL` images which need to be transformed to tensors, so they can be inputted into the MLP. Furthermore, these tensors need to be normalised. For MNIST, the mean and standard deviation are known to be 0.1307 and 0.3081 respectively. "
   ]
  },
  {
   "cell_type": "code",
   "execution_count": 5,
   "metadata": {},
   "outputs": [],
   "source": [
    "mnist_transforms = transforms.Compose([\n",
    "                    transforms.ToTensor(),\n",
    "                    transforms.Normalize((0.1307,), (0.3081,))]  # note that we normalise by rank-1 tensors\n",
    "                )\n",
    "\n",
    "mnist_trainset = torchvision.datasets.MNIST(root=MNIST, train=True, download=True, transform=mnist_transforms)\n",
    "mnist_testset = torchvision.datasets.MNIST(root=MNIST, train=False, transform=mnist_transforms)"
   ]
  },
  {
   "cell_type": "markdown",
   "metadata": {},
   "source": [
    "Now that we have our MNIST dataset, we need dataloaders to instruct PyTorch how to iterate over the dataset during each epoch."
   ]
  },
  {
   "cell_type": "code",
   "execution_count": 6,
   "metadata": {},
   "outputs": [],
   "source": [
    "mnist_trainloader = torch.utils.data.DataLoader(mnist_trainset, batch_size=10, shuffle=True, num_workers=2)\n",
    "mnist_testloader = torch.utils.data.DataLoader(mnist_testset, batch_size=10, shuffle=False, num_workers=2)"
   ]
  },
  {
   "cell_type": "code",
   "execution_count": 7,
   "metadata": {},
   "outputs": [
    {
     "name": "stdout",
     "output_type": "stream",
     "text": [
      "('0', '1', '2', '3', '4', '5', '6', '7', '8', '9')\n"
     ]
    }
   ],
   "source": [
    "classes = tuple(f\"{n}\" for n in range(10))\n",
    "print(classes)"
   ]
  },
  {
   "cell_type": "markdown",
   "metadata": {},
   "source": [
    "### Data Preview\n",
    "\n",
    "It is worthwhile getting a feel for the MNIST data - both as images and as tensors!\n",
    "\n",
    "MNIST images are `28x28` black and white images. To use them as input to an MLP, we need to unroll each image into a 28\\*28 = 784 long vector. However we have to make sure to get the tensor dimensions right for the MLP's hidden layer."
   ]
  },
  {
   "cell_type": "code",
   "execution_count": 8,
   "metadata": {},
   "outputs": [
    {
     "name": "stdout",
     "output_type": "stream",
     "text": [
      "torch.Size([10, 1, 28, 28])\n"
     ]
    }
   ],
   "source": [
    "data_iter = iter(mnist_trainloader)\n",
    "images, labels = next(data_iter)  # remember that the batch size is 10, so this will contain 10 images\n",
    "\n",
    "print(images.size())"
   ]
  },
  {
   "cell_type": "markdown",
   "metadata": {},
   "source": [
    "We will use the following helper function to display MNIST images:"
   ]
  },
  {
   "cell_type": "code",
   "execution_count": 9,
   "metadata": {},
   "outputs": [],
   "source": [
    "def imshow(img):\n",
    "    img = img * 0.3081 + 0.1307     # unnormalize\n",
    "    npimg = img.numpy()\n",
    "    plt.imshow(np.transpose(npimg, (1, 2, 0)))\n",
    "    plt.show()"
   ]
  },
  {
   "cell_type": "code",
   "execution_count": 10,
   "metadata": {},
   "outputs": [
    {
     "data": {
      "image/png": "[encoded data removed]",
      "text/plain": [
       "<Figure size 432x288 with 1 Axes>"
      ]
     },
     "metadata": {
      "needs_background": "light"
     },
     "output_type": "display_data"
    }
   ],
   "source": [
    "imshow(torchvision.utils.make_grid(images))"
   ]
  },
  {
   "cell_type": "markdown",
   "metadata": {},
   "source": [
    "To feed into the MLP we will unroll the input as follows:"
   ]
  },
  {
   "cell_type": "code",
   "execution_count": 11,
   "metadata": {},
   "outputs": [
    {
     "name": "stdout",
     "output_type": "stream",
     "text": [
      "torch.Size([10, 784])\n"
     ]
    }
   ],
   "source": [
    "input_ = images.view(-1, 784)  # -1 tells PyTorch to infer the other dimensions, in this case just batch size\n",
    "print(input_.size())"
   ]
  },
  {
   "cell_type": "markdown",
   "metadata": {},
   "source": [
    "## Training for MNIST\n",
    "\n",
    "Now we will define a generic training loop for the MLP which we can use for both MNIST and CIFAR-10. We will use cross-entropy loss and stochastic gradient descent with momentum."
   ]
  },
  {
   "cell_type": "code",
   "execution_count": 16,
   "metadata": {},
   "outputs": [],
   "source": [
    "def train_mlp(mlp, training_data, input_size, learning_rate, momentum, num_epochs):\n",
    "    \n",
    "    cross_entropy = nn.CrossEntropyLoss()\n",
    "    optimiser = optim.SGD(mlp.parameters(), lr=learning_rate, momentum=momentum)\n",
    "    \n",
    "    for epoch in range(num_epochs):\n",
    "        print(f\"Epoch: {epoch + 1} \" + \"=\"*80 + \">\")\n",
    "        \n",
    "        total_loss = 0.0\n",
    "        for batch_idx, batch in enumerate(training_data):\n",
    "            images, labels = batch\n",
    "            \n",
    "            # zero accumulated gradients\n",
    "            optimiser.zero_grad()\n",
    "            \n",
    "            # unroll images\n",
    "            input_ = images.view(-1, input_size)\n",
    "            # forward pass\n",
    "            output = mlp(input_)\n",
    "            # backward pass\n",
    "            loss = cross_entropy(output, labels)\n",
    "            loss.backward()\n",
    "            optimiser.step()\n",
    "            \n",
    "            total_loss += loss.item()\n",
    "            # print progress\n",
    "            \n",
    "            if (batch_idx + 1) % 1000 == 0:    # print every 1000 mini-batches\n",
    "                print(\"[%4d/6000] loss: %.3f\" %\n",
    "                      (batch_idx + 1, total_loss / 1000))\n",
    "                total_loss = 0.0\n",
    "                \n",
    "    print(\"Finished Training \" + \"=\"*71 + \">\")"
   ]
  },
  {
   "cell_type": "markdown",
   "metadata": {},
   "source": [
    "#### Now train"
   ]
  },
  {
   "cell_type": "code",
   "execution_count": 31,
   "metadata": {},
   "outputs": [
    {
     "name": "stdout",
     "output_type": "stream",
     "text": [
      "MLP(\n",
      "  (hidden_layer): Linear(in_features=784, out_features=280, bias=True)\n",
      "  (output_layer): Linear(in_features=280, out_features=10, bias=True)\n",
      ")\n"
     ]
    }
   ],
   "source": [
    "mnist_mlp = MLP(784, 280, 10)\n",
    "print(mnist_mlp)"
   ]
  },
  {
   "cell_type": "code",
   "execution_count": 32,
   "metadata": {},
   "outputs": [
    {
     "name": "stdout",
     "output_type": "stream",
     "text": [
      "Epoch: 1 ================================================================================>\n",
      "[1000/6000] loss: 0.603\n",
      "[2000/6000] loss: 0.294\n",
      "[3000/6000] loss: 0.264\n",
      "[4000/6000] loss: 0.212\n",
      "[5000/6000] loss: 0.197\n",
      "[6000/6000] loss: 0.190\n",
      "Epoch: 2 ================================================================================>\n",
      "[1000/6000] loss: 0.151\n",
      "[2000/6000] loss: 0.133\n",
      "[3000/6000] loss: 0.132\n",
      "[4000/6000] loss: 0.128\n",
      "[5000/6000] loss: 0.129\n",
      "[6000/6000] loss: 0.116\n",
      "Epoch: 3 ================================================================================>\n",
      "[1000/6000] loss: 0.095\n",
      "[2000/6000] loss: 0.085\n",
      "[3000/6000] loss: 0.099\n",
      "[4000/6000] loss: 0.089\n",
      "[5000/6000] loss: 0.098\n",
      "[6000/6000] loss: 0.083\n",
      "Finished Training =======================================================================>\n"
     ]
    }
   ],
   "source": [
    "train_mlp(mnist_mlp, mnist_trainloader, 784, learning_rate=0.001, momentum=0.9, num_epochs=3)"
   ]
  },
  {
   "cell_type": "markdown",
   "metadata": {},
   "source": [
    "## Evaluating on MNIST\n",
    "\n",
    "Now we will evaluate the MLP - this will be useful for comparing it with other more sophisticated models.\n",
    "\n",
    "Once again we will start by getting a visual feel for how the model compares to the groundtruth labels."
   ]
  },
  {
   "cell_type": "code",
   "execution_count": 37,
   "metadata": {},
   "outputs": [
    {
     "data": {
      "image/png": "[encoded data removed]",
      "text/plain": [
       "<Figure size 432x288 with 1 Axes>"
      ]
     },
     "metadata": {
      "needs_background": "light"
     },
     "output_type": "display_data"
    },
    {
     "name": "stdout",
     "output_type": "stream",
     "text": [
      "Groundtruth:      7     2     1     0     4     1     4     9     5     9\n"
     ]
    }
   ],
   "source": [
    "data_iter = iter(mnist_testloader)\n",
    "images, labels = data_iter.next()\n",
    "\n",
    "# print images\n",
    "imshow(torchvision.utils.make_grid(images))\n",
    "print('Groundtruth: ', ' '.join('%5s' % classes[labels[j]] for j in range(10)))"
   ]
  },
  {
   "cell_type": "code",
   "execution_count": 36,
   "metadata": {},
   "outputs": [
    {
     "name": "stdout",
     "output_type": "stream",
     "text": [
      "Predicted:      7     2     1     0     4     1     4     9     6     9\n"
     ]
    }
   ],
   "source": [
    "input_ = images.view(-1, 784)\n",
    "outputs = mnist_mlp(input_)\n",
    "_, predicted = torch.max(outputs, 1)\n",
    "\n",
    "print('Predicted: ', ' '.join('%5s' % classes[predicted[j]] for j in range(10)))"
   ]
  },
  {
   "cell_type": "code",
   "execution_count": 21,
   "metadata": {},
   "outputs": [],
   "source": [
    "def evaluate_mlp(mlp, test_data, input_size):\n",
    "    correct = 0\n",
    "    total = 0\n",
    "    with torch.no_grad():\n",
    "        for data in test_data:\n",
    "            images, truth = data\n",
    "            input_ = images.view(-1, input_size)\n",
    "            output = mlp(input_)\n",
    "            _, predicted = torch.max(outputs.data, 1)\n",
    "            total += labels.size(0)\n",
    "            correct += (predicted == labels).sum().item()\n",
    "\n",
    "    print('Accuracy of a simple MLP on the 10000 test images: %d %%' % (100 * correct / total))"
   ]
  },
  {
   "cell_type": "code",
   "execution_count": 41,
   "metadata": {},
   "outputs": [
    {
     "name": "stdout",
     "output_type": "stream",
     "text": [
      "Accuracy of a simple MLP on the 10000 test images: 90 %\n"
     ]
    }
   ],
   "source": [
    "evaluate_mlp(mnist_mlp, mnist_testloader, 784)"
   ]
  },
  {
   "cell_type": "markdown",
   "metadata": {},
   "source": [
    "Hello world. In the future we will try to beat 90% by being smart and lean."
   ]
  },
  {
   "cell_type": "markdown",
   "metadata": {},
   "source": [
    "## CIFAR-10\n",
    "\n",
    "[CIFAR-10](https://www.cs.toronto.edu/~kriz/cifar.html) is an alternative benchmark (as a research sanity check) dataset to MNIST with the roughly the same size and resolution. The difference is that the images are 3-channel RGB images, so the dimensionality is much higher, and there is somewhat greater variation across classes and within classes in the dataset. This makes CIFAR-10 a harder classification task.\n",
    "\n",
    "As with MNIST, we start by specifying our dataloaders."
   ]
  },
  {
   "cell_type": "code",
   "execution_count": 4,
   "metadata": {},
   "outputs": [
    {
     "name": "stderr",
     "output_type": "stream",
     "text": [
      "\r",
      "0it [00:00, ?it/s]"
     ]
    },
    {
     "name": "stdout",
     "output_type": "stream",
     "text": [
      "Downloading https://www.cs.toronto.edu/~kriz/cifar-10-python.tar.gz to /Users/jontysinai/Projects/NeuralNetworks/artificial_neural_networks/data/cifar10/cifar-10-python.tar.gz\n"
     ]
    },
    {
     "name": "stderr",
     "output_type": "stream",
     "text": [
      "170500096it [02:10, 2642049.18it/s]                               "
     ]
    }
   ],
   "source": [
    "cifar10_transforms = transforms.Compose([\n",
    "                    transforms.ToTensor(),\n",
    "                    transforms.Normalize((0.5, 0.5, 0.5), (0.5, 0.5, 0.5))]  \n",
    "                )   # note that we normalise over all channels\n",
    "\n",
    "cifar10_trainset = torchvision.datasets.CIFAR10(root=CIFAR10, train=True, download=True, transform=cifar10_transforms)\n",
    "cifar10_testset = torchvision.datasets.CIFAR10(root=CIFAR10, train=False, transform=cifar10_transforms)"
   ]
  },
  {
   "cell_type": "code",
   "execution_count": 8,
   "metadata": {},
   "outputs": [],
   "source": [
    "cifar10_trainloader = torch.utils.data.DataLoader(cifar10_trainset, batch_size=10, shuffle=True, num_workers=2)\n",
    "cifar10_testloader = torch.utils.data.DataLoader(cifar10_testset, batch_size=10, shuffle=False, num_workers=2)"
   ]
  },
  {
   "cell_type": "code",
   "execution_count": 6,
   "metadata": {},
   "outputs": [],
   "source": [
    "classes = ('plane', 'car', 'bird', 'cat', 'deer', 'dog', 'frog', 'horse', 'ship', 'truck')"
   ]
  },
  {
   "cell_type": "markdown",
   "metadata": {},
   "source": [
    "### Data Preview\n",
    "\n",
    "Once again it is worthwhile getting a feel for the CIFAR-10 image data as images and as tensors!\n",
    "\n",
    "CIFAR-10 images are `32x32` RGB images. To feed them as input to an MLP, we need to unroll each image into a 32\\*32\\*3 = 3072 long vector. Note that we unroll over the three colour channels as well."
   ]
  },
  {
   "cell_type": "code",
   "execution_count": 9,
   "metadata": {},
   "outputs": [
    {
     "name": "stdout",
     "output_type": "stream",
     "text": [
      "torch.Size([10, 3, 32, 32])\n"
     ]
    }
   ],
   "source": [
    "data_iter = iter(cifar10_trainloader)\n",
    "images, labels = next(data_iter)  # remember that the batch size is 10, so this will contain 10 images\n",
    "\n",
    "print(images.size())"
   ]
  },
  {
   "cell_type": "markdown",
   "metadata": {},
   "source": [
    "We will modify the following helper function for CIFAR-10 images:"
   ]
  },
  {
   "cell_type": "code",
   "execution_count": 10,
   "metadata": {},
   "outputs": [],
   "source": [
    "def imshow(img):\n",
    "    img = img * 0.5 + 0.5     # unnormalize\n",
    "    npimg = img.numpy()\n",
    "    plt.imshow(np.transpose(npimg, (1, 2, 0)))\n",
    "    plt.show()"
   ]
  },
  {
   "cell_type": "code",
   "execution_count": 13,
   "metadata": {},
   "outputs": [
    {
     "data": {
      "image/png": "[encoded data removed]",
      "text/plain": [
       "<Figure size 432x288 with 1 Axes>"
      ]
     },
     "metadata": {
      "needs_background": "light"
     },
     "output_type": "display_data"
    },
    {
     "name": "stdout",
     "output_type": "stream",
     "text": [
      "  dog  ship  frog horse   car   cat  ship  deer  deer  ship\n"
     ]
    }
   ],
   "source": [
    "imshow(torchvision.utils.make_grid(images))\n",
    "print(' '.join('%5s' % classes[labels[j]] for j in range(10)))"
   ]
  },
  {
   "cell_type": "markdown",
   "metadata": {},
   "source": [
    "To feed into the MLP we will unroll the input as follows:"
   ]
  },
  {
   "cell_type": "code",
   "execution_count": 14,
   "metadata": {},
   "outputs": [
    {
     "name": "stdout",
     "output_type": "stream",
     "text": [
      "torch.Size([10, 3072])\n"
     ]
    }
   ],
   "source": [
    "input_ = images.view(-1, 3072)  # -1 tells PyTorch to infer the other dimensions, in this case just batch size\n",
    "print(input_.size())"
   ]
  },
  {
   "cell_type": "markdown",
   "metadata": {},
   "source": [
    "## Training for CIFAR-10\n",
    "\n",
    "We will use the generic training loop defined earlier, only using a model with dimensions chosen to fit CIFAR-10. "
   ]
  },
  {
   "cell_type": "markdown",
   "metadata": {},
   "source": [
    "#### Now train"
   ]
  },
  {
   "cell_type": "code",
   "execution_count": 17,
   "metadata": {},
   "outputs": [
    {
     "name": "stdout",
     "output_type": "stream",
     "text": [
      "MLP(\n",
      "  (hidden_layer): Linear(in_features=3072, out_features=512, bias=True)\n",
      "  (output_layer): Linear(in_features=512, out_features=10, bias=True)\n",
      ")\n"
     ]
    }
   ],
   "source": [
    "cifar10_mlp = MLP(3072, 512, 10)\n",
    "print(cifar10_mlp)"
   ]
  },
  {
   "cell_type": "code",
   "execution_count": 18,
   "metadata": {},
   "outputs": [
    {
     "name": "stdout",
     "output_type": "stream",
     "text": [
      "Epoch: 1 ================================================================================>\n",
      "[1000/6000] loss: 1.867\n",
      "[2000/6000] loss: 1.680\n",
      "[3000/6000] loss: 1.615\n",
      "[4000/6000] loss: 1.563\n",
      "[5000/6000] loss: 1.545\n",
      "Epoch: 2 ================================================================================>\n",
      "[1000/6000] loss: 1.476\n",
      "[2000/6000] loss: 1.478\n",
      "[3000/6000] loss: 1.440\n",
      "[4000/6000] loss: 1.434\n",
      "[5000/6000] loss: 1.403\n",
      "Epoch: 3 ================================================================================>\n",
      "[1000/6000] loss: 1.343\n",
      "[2000/6000] loss: 1.351\n",
      "[3000/6000] loss: 1.335\n",
      "[4000/6000] loss: 1.351\n",
      "[5000/6000] loss: 1.358\n",
      "Finished Training =======================================================================>\n"
     ]
    }
   ],
   "source": [
    "train_mlp(cifar10_mlp, cifar10_trainloader, 3072, learning_rate=0.001, momentum=0.9, num_epochs=3)"
   ]
  },
  {
   "cell_type": "markdown",
   "metadata": {},
   "source": [
    "## Evaluating on CIFAR-10\n",
    "\n",
    "Once again let's get a visual feel for how the model compares to the groundtruth."
   ]
  },
  {
   "cell_type": "code",
   "execution_count": 19,
   "metadata": {},
   "outputs": [
    {
     "data": {
      "image/png": "[encoded data removed]",
      "text/plain": [
       "<Figure size 432x288 with 1 Axes>"
      ]
     },
     "metadata": {
      "needs_background": "light"
     },
     "output_type": "display_data"
    },
    {
     "name": "stdout",
     "output_type": "stream",
     "text": [
      "Groundtruth:    cat  ship  ship plane  frog  frog   car  frog   cat   car\n"
     ]
    }
   ],
   "source": [
    "data_iter = iter(cifar10_testloader)\n",
    "images, labels = data_iter.next()\n",
    "\n",
    "# print images\n",
    "imshow(torchvision.utils.make_grid(images))\n",
    "print('Groundtruth: ', ' '.join('%5s' % classes[labels[j]] for j in range(10)))"
   ]
  },
  {
   "cell_type": "code",
   "execution_count": 20,
   "metadata": {},
   "outputs": [
    {
     "name": "stdout",
     "output_type": "stream",
     "text": [
      "Predicted:    cat   car plane horse  deer  frog   cat  frog   cat   car\n"
     ]
    }
   ],
   "source": [
    "input_ = images.view(-1, 3072)\n",
    "outputs = cifar10_mlp(input_)\n",
    "_, predicted = torch.max(outputs, 1)\n",
    "\n",
    "print('Predicted: ', ' '.join('%5s' % classes[predicted[j]] for j in range(10)))"
   ]
  },
  {
   "cell_type": "markdown",
   "metadata": {},
   "source": [
    "On the first batch the predictions don't appear too bad - remember that CIFAR-10 is a harder task than MNIST!\n",
    "\n",
    "Using the evaluation function from earlier on the whole test set:"
   ]
  },
  {
   "cell_type": "code",
   "execution_count": 22,
   "metadata": {},
   "outputs": [
    {
     "name": "stdout",
     "output_type": "stream",
     "text": [
      "Accuracy of a simple MLP on the 10000 test images: 50 %\n"
     ]
    }
   ],
   "source": [
    "evaluate_mlp(cifar10_mlp, cifar10_testloader, 3072)"
   ]
  },
  {
   "cell_type": "markdown",
   "metadata": {},
   "source": [
    "We do much worse here than on MNIST - this is not an issue as there are far more power modelling techniques available to us with much greater expressive power, especially for vision tasks). These will be explored in future notebooks."
   ]
  },
  {
   "cell_type": "code",
   "execution_count": null,
   "metadata": {},
   "outputs": [],
   "source": []
  }
 ],
 "metadata": {
  "kernelspec": {
   "display_name": "Python 3 (axiom)",
   "language": "python",
   "name": "axiom"
  },
  "language_info": {
   "codemirror_mode": {
    "name": "ipython",
    "version": 3
   },
   "file_extension": ".py",
   "mimetype": "text/x-python",
   "name": "python",
   "nbconvert_exporter": "python",
   "pygments_lexer": "ipython3",
   "version": "3.7.3"
  }
 },
 "nbformat": 4,
 "nbformat_minor": 2
}
