{
 "cells": [
  {
   "cell_type": "markdown",
   "metadata": {},
   "source": [
    "## Intro to PyTorch"
   ]
  },
  {
   "cell_type": "code",
   "execution_count": 37,
   "metadata": {},
   "outputs": [],
   "source": [
    "import torch\n",
    "import numpy as np"
   ]
  },
  {
   "cell_type": "markdown",
   "metadata": {},
   "source": [
    "PyTorch is similar to numpy but generalises arrays with tensors. Tensors can be differentiable and are an optimised data structure for deep learning.\n",
    "\n",
    "### Tensors"
   ]
  },
  {
   "cell_type": "code",
   "execution_count": 4,
   "metadata": {},
   "outputs": [
    {
     "name": "stdout",
     "output_type": "stream",
     "text": [
      "tensor([[-1.0645e+11,  4.5916e-41,  0.0000e+00],\n",
      "        [ 1.7166e-05,  0.0000e+00,  4.7261e-01],\n",
      "        [-0.0000e+00,  9.2168e-01,  0.0000e+00],\n",
      "        [ 4.7261e-01,  0.0000e+00,  4.3359e-01],\n",
      "        [ 0.0000e+00,  4.2676e-01,  0.0000e+00]])\n"
     ]
    }
   ],
   "source": [
    "# empty tensor\n",
    "x = torch.empty(5,3)\n",
    "print(x)"
   ]
  },
  {
   "cell_type": "code",
   "execution_count": 6,
   "metadata": {},
   "outputs": [
    {
     "name": "stdout",
     "output_type": "stream",
     "text": [
      "tensor([[0.0282, 0.3585, 0.6230],\n",
      "        [0.7272, 0.9336, 0.5577],\n",
      "        [0.0256, 0.5184, 0.4793],\n",
      "        [0.5550, 0.0032, 0.3403],\n",
      "        [0.8122, 0.4002, 0.5062]])\n"
     ]
    }
   ],
   "source": [
    "# random tensor\n",
    "x = torch.rand(5,3)\n",
    "print(x)"
   ]
  },
  {
   "cell_type": "code",
   "execution_count": 8,
   "metadata": {},
   "outputs": [
    {
     "name": "stdout",
     "output_type": "stream",
     "text": [
      "tensor([[0, 0, 0],\n",
      "        [0, 0, 0],\n",
      "        [0, 0, 0],\n",
      "        [0, 0, 0],\n",
      "        [0, 0, 0]])\n"
     ]
    }
   ],
   "source": [
    "# matrix of zeros with dtype long (64bit int)\n",
    "x = torch.zeros(5,3, dtype=torch.long)\n",
    "print(x)"
   ]
  },
  {
   "cell_type": "code",
   "execution_count": 9,
   "metadata": {},
   "outputs": [
    {
     "name": "stdout",
     "output_type": "stream",
     "text": [
      "tensor([5.5000, 3.0000])\n"
     ]
    }
   ],
   "source": [
    "# construct a tensor directly from data\n",
    "x = torch.tensor([5.5, 3])\n",
    "print(x)"
   ]
  },
  {
   "cell_type": "code",
   "execution_count": 12,
   "metadata": {},
   "outputs": [
    {
     "name": "stdout",
     "output_type": "stream",
     "text": [
      "tensor([[1., 1., 1.],\n",
      "        [1., 1., 1.],\n",
      "        [1., 1., 1.],\n",
      "        [1., 1., 1.],\n",
      "        [1., 1., 1.]], dtype=torch.float64)\n",
      "tensor([[ 0.2144, -1.2757, -0.3748],\n",
      "        [ 1.4861, -1.1691, -1.7857],\n",
      "        [-1.8304,  0.2868,  0.9468],\n",
      "        [-0.2314, -1.2602,  0.8591],\n",
      "        [ 1.3816,  0.1403, -0.3807]])\n"
     ]
    }
   ],
   "source": [
    "# create a tensor from another tensor\n",
    "x = x.new_ones(5,3, dtype=torch.double)\n",
    "print(x)\n",
    "\n",
    "y = torch.randn_like(x, dtype=torch.float)  # note that we have overridden the type\n",
    "print(y)                                    # result has the same size"
   ]
  },
  {
   "cell_type": "code",
   "execution_count": 13,
   "metadata": {},
   "outputs": [
    {
     "name": "stdout",
     "output_type": "stream",
     "text": [
      "torch.Size([5, 3])\n"
     ]
    }
   ],
   "source": [
    "# get a tensor's size\n",
    "print(x.size())"
   ]
  },
  {
   "cell_type": "markdown",
   "metadata": {},
   "source": [
    "### Tensor Operations"
   ]
  },
  {
   "cell_type": "code",
   "execution_count": 22,
   "metadata": {},
   "outputs": [
    {
     "name": "stdout",
     "output_type": "stream",
     "text": [
      "tensor([[1.2433, 1.5297, 1.9173],\n",
      "        [1.1958, 1.7821, 1.1028],\n",
      "        [1.5452, 1.6051, 1.9236],\n",
      "        [1.0654, 1.3024, 1.6642],\n",
      "        [1.1647, 1.6915, 1.8634]])\n"
     ]
    }
   ],
   "source": [
    "x = torch.ones(5,3)\n",
    "y = torch.rand(5,3)\n",
    "print(x + y)"
   ]
  },
  {
   "cell_type": "code",
   "execution_count": 23,
   "metadata": {},
   "outputs": [
    {
     "name": "stdout",
     "output_type": "stream",
     "text": [
      "tensor([[1.2433, 1.5297, 1.9173],\n",
      "        [1.1958, 1.7821, 1.1028],\n",
      "        [1.5452, 1.6051, 1.9236],\n",
      "        [1.0654, 1.3024, 1.6642],\n",
      "        [1.1647, 1.6915, 1.8634]])\n"
     ]
    }
   ],
   "source": [
    "# or\n",
    "result=torch.empty(5,3)\n",
    "torch.add(x,y, out=result)\n",
    "print(result)"
   ]
  },
  {
   "cell_type": "code",
   "execution_count": 24,
   "metadata": {},
   "outputs": [
    {
     "name": "stdout",
     "output_type": "stream",
     "text": [
      "tensor([[1.2433, 1.5297, 1.9173],\n",
      "        [1.1958, 1.7821, 1.1028],\n",
      "        [1.5452, 1.6051, 1.9236],\n",
      "        [1.0654, 1.3024, 1.6642],\n",
      "        [1.1647, 1.6915, 1.8634]])\n"
     ]
    }
   ],
   "source": [
    "# in-place addition\n",
    "y.add_(x)  # note: in-place operations are post-fixed with a `_` eg x.t_()\n",
    "print(y)"
   ]
  },
  {
   "cell_type": "code",
   "execution_count": 26,
   "metadata": {},
   "outputs": [
    {
     "name": "stdout",
     "output_type": "stream",
     "text": [
      "tensor([1.5297, 1.7821, 1.6051, 1.3024, 1.6915])\n"
     ]
    }
   ],
   "source": [
    "# PyTorch supports standard NumPy indexing\n",
    "print(y[:,1])"
   ]
  },
  {
   "cell_type": "code",
   "execution_count": 30,
   "metadata": {},
   "outputs": [
    {
     "name": "stdout",
     "output_type": "stream",
     "text": [
      "X ===================================================================================\n",
      "tensor([[-0.4974,  0.5096,  1.0897,  0.7786],\n",
      "        [ 0.9801, -0.4962, -1.6765,  1.1932],\n",
      "        [-0.6939,  0.6411, -1.8604,  0.3828],\n",
      "        [-0.5180, -0.5231, -0.3075, -0.5778]])\n",
      "torch.Size([4, 4])\n",
      "Y ===================================================================================\n",
      "tensor([-0.4974,  0.5096,  1.0897,  0.7786,  0.9801, -0.4962, -1.6765,  1.1932,\n",
      "        -0.6939,  0.6411, -1.8604,  0.3828, -0.5180, -0.5231, -0.3075, -0.5778])\n",
      "torch.Size([16])\n",
      "Z ===================================================================================\n",
      "tensor([[-0.4974,  0.5096,  1.0897,  0.7786,  0.9801, -0.4962, -1.6765,  1.1932],\n",
      "        [-0.6939,  0.6411, -1.8604,  0.3828, -0.5180, -0.5231, -0.3075, -0.5778]])\n",
      "torch.Size([2, 8])\n"
     ]
    }
   ],
   "source": [
    "# resize using `torch.view`\n",
    "x = torch.randn(4,4)\n",
    "print(\"X \" + \"=\"*83)\n",
    "print(x)\n",
    "print(x.size())\n",
    "y = x.view(16)\n",
    "print(\"Y \" + \"=\"*83)\n",
    "print(y)\n",
    "print(y.size())\n",
    "z = x.view(-1, 8)  # the size -1 means infer from other dimensions\n",
    "print(\"Z \" + \"=\"*83)\n",
    "print(z)\n",
    "print(z.size())"
   ]
  },
  {
   "cell_type": "code",
   "execution_count": 31,
   "metadata": {},
   "outputs": [
    {
     "name": "stdout",
     "output_type": "stream",
     "text": [
      "tensor([-0.6208])\n",
      "-0.6207857131958008\n"
     ]
    }
   ],
   "source": [
    "# use `.item()` to get the value of a one element tensor\n",
    "a = torch.randn(1)\n",
    "print(a)\n",
    "print(a.item())"
   ]
  },
  {
   "cell_type": "markdown",
   "metadata": {},
   "source": [
    "### From NumPy to PyTorch\n",
    "\n",
    "PyTorch supports converting tensors to NumPy arrays and vice-versa. Note that the respective tensor and array will share their underlying memory locations and so changing one will change the other."
   ]
  },
  {
   "cell_type": "code",
   "execution_count": 32,
   "metadata": {},
   "outputs": [
    {
     "name": "stdout",
     "output_type": "stream",
     "text": [
      "tensor([1., 1., 1., 1., 1.])\n"
     ]
    }
   ],
   "source": [
    "t = torch.ones(5)\n",
    "print(t)"
   ]
  },
  {
   "cell_type": "code",
   "execution_count": 34,
   "metadata": {},
   "outputs": [
    {
     "name": "stdout",
     "output_type": "stream",
     "text": [
      "[1. 1. 1. 1. 1.]\n"
     ]
    }
   ],
   "source": [
    "a = t.numpy()\n",
    "print(a)"
   ]
  },
  {
   "cell_type": "code",
   "execution_count": 35,
   "metadata": {},
   "outputs": [
    {
     "name": "stdout",
     "output_type": "stream",
     "text": [
      "tensor([2., 2., 2., 2., 2.])\n"
     ]
    }
   ],
   "source": [
    "t.add_(1)   # note the broadcasting\n",
    "print(t)"
   ]
  },
  {
   "cell_type": "code",
   "execution_count": 36,
   "metadata": {},
   "outputs": [
    {
     "name": "stdout",
     "output_type": "stream",
     "text": [
      "[2. 2. 2. 2. 2.]\n"
     ]
    }
   ],
   "source": [
    "print(a)    # see how the array changed"
   ]
  },
  {
   "cell_type": "code",
   "execution_count": 43,
   "metadata": {},
   "outputs": [
    {
     "name": "stdout",
     "output_type": "stream",
     "text": [
      "[1. 1. 1. 1. 1.]\n"
     ]
    }
   ],
   "source": [
    "# converting a numpy array to a tensor\n",
    "a= np.ones(5)\n",
    "print(a)"
   ]
  },
  {
   "cell_type": "code",
   "execution_count": 44,
   "metadata": {},
   "outputs": [
    {
     "name": "stdout",
     "output_type": "stream",
     "text": [
      "tensor([1., 1., 1., 1., 1.], dtype=torch.float64)\n"
     ]
    }
   ],
   "source": [
    "t = torch.from_numpy(a)\n",
    "print(t)"
   ]
  },
  {
   "cell_type": "code",
   "execution_count": 45,
   "metadata": {},
   "outputs": [
    {
     "name": "stdout",
     "output_type": "stream",
     "text": [
      "[2. 2. 2. 2. 2.]\n"
     ]
    }
   ],
   "source": [
    "np.add(a, 1, out=a)\n",
    "print(a)"
   ]
  },
  {
   "cell_type": "code",
   "execution_count": 47,
   "metadata": {},
   "outputs": [
    {
     "name": "stdout",
     "output_type": "stream",
     "text": [
      "tensor([2., 2., 2., 2., 2.], dtype=torch.float64)\n"
     ]
    }
   ],
   "source": [
    "print(t)    # now see how the tensor changes"
   ]
  },
  {
   "cell_type": "code",
   "execution_count": null,
   "metadata": {},
   "outputs": [],
   "source": []
  }
 ],
 "metadata": {
  "kernelspec": {
   "display_name": "Python 3 (axiom)\n",
   "language": "python",
   "name": "axiom"
  },
  "language_info": {
   "codemirror_mode": {
    "name": "ipython",
    "version": 3
   },
   "file_extension": ".py",
   "mimetype": "text/x-python",
   "name": "python",
   "nbconvert_exporter": "python",
   "pygments_lexer": "ipython3",
   "version": "3.7.3"
  }
 },
 "nbformat": 4,
 "nbformat_minor": 2
}
